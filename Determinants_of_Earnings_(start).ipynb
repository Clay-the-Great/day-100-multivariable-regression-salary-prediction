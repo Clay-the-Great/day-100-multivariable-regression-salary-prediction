{
  "nbformat": 4,
  "nbformat_minor": 0,
  "metadata": {
    "colab": {
      "provenance": [],
      "include_colab_link": true
    },
    "kernelspec": {
      "name": "python3",
      "display_name": "Python 3"
    }
  },
  "cells": [
    {
      "cell_type": "markdown",
      "metadata": {
        "id": "view-in-github",
        "colab_type": "text"
      },
      "source": [
        "<a href=\"https://colab.research.google.com/github/Clay-the-Great/day-100-multivariable-regression-salary-prediction/blob/main/Determinants_of_Earnings_(start).ipynb\" target=\"_parent\"><img src=\"https://colab.research.google.com/assets/colab-badge.svg\" alt=\"Open In Colab\"/></a>"
      ]
    },
    {
      "cell_type": "markdown",
      "metadata": {
        "id": "BHg0HZz-intQ"
      },
      "source": [
        "# Introduction"
      ]
    },
    {
      "cell_type": "markdown",
      "metadata": {
        "id": "V2RQkgAbiqJv"
      },
      "source": [
        "The National Longitudinal Survey of Youth 1997-2011 dataset is one of the most important databases available to social scientists working with US data. \n",
        "\n",
        "It allows scientists to look at the determinants of earnings as well as educational attainment and has incredible relevance for government policy. It can also shed light on politically sensitive issues like how different educational attainment and salaries are for people of different ethnicity, sex, and other factors. When we have a better understanding how these variables affect education and earnings we can also formulate more suitable government policies. \n",
        "\n",
        "<center><img src=https://i.imgur.com/cxBpQ3I.png height=400></center>\n"
      ]
    },
    {
      "cell_type": "markdown",
      "metadata": {
        "id": "YjCPWWUSirY_"
      },
      "source": [
        "### Upgrade Plotly"
      ]
    },
    {
      "cell_type": "code",
      "metadata": {
        "id": "v74l3QCGirIX",
        "colab": {
          "base_uri": "https://localhost:8080/"
        },
        "outputId": "82e0608f-6268-4ae9-a6aa-7755bca455c8"
      },
      "source": [
        "%pip install --upgrade plotly"
      ],
      "execution_count": null,
      "outputs": [
        {
          "output_type": "stream",
          "name": "stdout",
          "text": [
            "Looking in indexes: https://pypi.org/simple, https://us-python.pkg.dev/colab-wheels/public/simple/\n",
            "Requirement already satisfied: plotly in /usr/local/lib/python3.8/dist-packages (5.5.0)\n",
            "Collecting plotly\n",
            "  Downloading plotly-5.12.0-py2.py3-none-any.whl (15.2 MB)\n",
            "\u001b[2K     \u001b[90m━━━━━━━━━━━━━━━━━━━━━━━━━━━━━━━━━━━━━━━━\u001b[0m \u001b[32m15.2/15.2 MB\u001b[0m \u001b[31m44.3 MB/s\u001b[0m eta \u001b[36m0:00:00\u001b[0m\n",
            "\u001b[?25hRequirement already satisfied: tenacity>=6.2.0 in /usr/local/lib/python3.8/dist-packages (from plotly) (8.1.0)\n",
            "Installing collected packages: plotly\n",
            "  Attempting uninstall: plotly\n",
            "    Found existing installation: plotly 5.5.0\n",
            "    Uninstalling plotly-5.5.0:\n",
            "      Successfully uninstalled plotly-5.5.0\n",
            "Successfully installed plotly-5.12.0\n"
          ]
        }
      ]
    },
    {
      "cell_type": "code",
      "source": [
        "from google.colab import drive\n",
        "drive.mount('/content/drive')"
      ],
      "metadata": {
        "colab": {
          "base_uri": "https://localhost:8080/"
        },
        "id": "M5LwgLwx9gUE",
        "outputId": "bad9dc8d-2d69-43c8-ce52-370c4a234667"
      },
      "execution_count": null,
      "outputs": [
        {
          "output_type": "stream",
          "name": "stdout",
          "text": [
            "Mounted at /content/drive\n"
          ]
        }
      ]
    },
    {
      "cell_type": "markdown",
      "metadata": {
        "id": "br_QkHBMjC1Q"
      },
      "source": [
        "###  Import Statements\n"
      ]
    },
    {
      "cell_type": "code",
      "metadata": {
        "id": "gSKZx-kwie_u"
      },
      "source": [
        "import pandas as pd\n",
        "import numpy as np\n",
        "\n",
        "import seaborn as sns\n",
        "import plotly.express as px\n",
        "import matplotlib.pyplot as plt\n",
        "\n",
        "from sklearn.linear_model import LinearRegression\n",
        "from sklearn.model_selection import train_test_split"
      ],
      "execution_count": null,
      "outputs": []
    },
    {
      "cell_type": "markdown",
      "metadata": {
        "id": "9pgsrth_izCn"
      },
      "source": [
        "## Notebook Presentation"
      ]
    },
    {
      "cell_type": "code",
      "metadata": {
        "id": "Cgwu-WbBizqY"
      },
      "source": [
        "pd.options.display.float_format = '{:,.2f}'.format"
      ],
      "execution_count": null,
      "outputs": []
    },
    {
      "cell_type": "markdown",
      "metadata": {
        "id": "E5bhysOOjLRr"
      },
      "source": [
        "# Load the Data\n",
        "\n"
      ]
    },
    {
      "cell_type": "code",
      "metadata": {
        "id": "6VngeTQwjM-X"
      },
      "source": [
        "df_data = pd.read_csv('/content/drive/MyDrive/day-100-multivariable-regression-salary-prediction/NLSY97_subset.csv')"
      ],
      "execution_count": null,
      "outputs": []
    },
    {
      "cell_type": "markdown",
      "metadata": {
        "id": "_ZjIBJ5jjrj0"
      },
      "source": [
        "### Understand the Dataset\n",
        "\n",
        "Have a look at the file entitled `NLSY97_Variable_Names_and_Descriptions.csv`. \n",
        "\n",
        "---------------------------\n",
        "\n",
        "    :Key Variables:  \n",
        "      1. S           Years of schooling (highest grade completed as of 2011)\n",
        "      2. EXP         Total out-of-school work experience (years) as of the 2011 interview.\n",
        "      3. EARNINGS    Current hourly earnings in $ reported at the 2011 interview"
      ]
    },
    {
      "cell_type": "markdown",
      "metadata": {
        "id": "8MkSxkjVnIfW"
      },
      "source": [
        "# Preliminary Data Exploration 🔎\n",
        "\n",
        "**Challenge**\n",
        "\n",
        "* What is the shape of `df_data`? \n",
        "* How many rows and columns does it have?\n",
        "* What are the column names?\n",
        "* Are there any NaN values or duplicates?"
      ]
    },
    {
      "cell_type": "code",
      "metadata": {
        "id": "V_cQguBbjwZv",
        "colab": {
          "base_uri": "https://localhost:8080/"
        },
        "outputId": "a7b70140-51aa-4e3d-b38a-bb3f09624a3b"
      },
      "source": [
        "df_data.shape"
      ],
      "execution_count": null,
      "outputs": [
        {
          "output_type": "execute_result",
          "data": {
            "text/plain": [
              "(2000, 96)"
            ]
          },
          "metadata": {},
          "execution_count": 6
        }
      ]
    },
    {
      "cell_type": "code",
      "source": [
        "df_data.sample()"
      ],
      "metadata": {
        "colab": {
          "base_uri": "https://localhost:8080/",
          "height": 174
        },
        "id": "r6CP_ovbAJ9V",
        "outputId": "0fbde480-f894-4b39-bc9e-2efbbd3d8b74"
      },
      "execution_count": null,
      "outputs": [
        {
          "output_type": "execute_result",
          "data": {
            "text/plain": [
              "       ID  EARNINGS   S  EXP  FEMALE  MALE  BYEAR  AGE  AGEMBTH   HHINC97  \\\n",
              "804  4046      8.39  15 3.50       1     0   1981   30    20.00 29,000.00   \n",
              "\n",
              "     ...  URBAN  REGNE  REGNC  REGW  REGS  MSA11NO  MSA11NCC  MSA11CC  \\\n",
              "804  ...      1      0      0     1     0        0         0        1   \n",
              "\n",
              "     MSA11NK  MSA11NIC  \n",
              "804        0         0  \n",
              "\n",
              "[1 rows x 96 columns]"
            ],
            "text/html": [
              "\n",
              "  <div id=\"df-5f0b761d-dc3f-4a96-b5df-a4bc5f6eaab3\">\n",
              "    <div class=\"colab-df-container\">\n",
              "      <div>\n",
              "<style scoped>\n",
              "    .dataframe tbody tr th:only-of-type {\n",
              "        vertical-align: middle;\n",
              "    }\n",
              "\n",
              "    .dataframe tbody tr th {\n",
              "        vertical-align: top;\n",
              "    }\n",
              "\n",
              "    .dataframe thead th {\n",
              "        text-align: right;\n",
              "    }\n",
              "</style>\n",
              "<table border=\"1\" class=\"dataframe\">\n",
              "  <thead>\n",
              "    <tr style=\"text-align: right;\">\n",
              "      <th></th>\n",
              "      <th>ID</th>\n",
              "      <th>EARNINGS</th>\n",
              "      <th>S</th>\n",
              "      <th>EXP</th>\n",
              "      <th>FEMALE</th>\n",
              "      <th>MALE</th>\n",
              "      <th>BYEAR</th>\n",
              "      <th>AGE</th>\n",
              "      <th>AGEMBTH</th>\n",
              "      <th>HHINC97</th>\n",
              "      <th>...</th>\n",
              "      <th>URBAN</th>\n",
              "      <th>REGNE</th>\n",
              "      <th>REGNC</th>\n",
              "      <th>REGW</th>\n",
              "      <th>REGS</th>\n",
              "      <th>MSA11NO</th>\n",
              "      <th>MSA11NCC</th>\n",
              "      <th>MSA11CC</th>\n",
              "      <th>MSA11NK</th>\n",
              "      <th>MSA11NIC</th>\n",
              "    </tr>\n",
              "  </thead>\n",
              "  <tbody>\n",
              "    <tr>\n",
              "      <th>804</th>\n",
              "      <td>4046</td>\n",
              "      <td>8.39</td>\n",
              "      <td>15</td>\n",
              "      <td>3.50</td>\n",
              "      <td>1</td>\n",
              "      <td>0</td>\n",
              "      <td>1981</td>\n",
              "      <td>30</td>\n",
              "      <td>20.00</td>\n",
              "      <td>29,000.00</td>\n",
              "      <td>...</td>\n",
              "      <td>1</td>\n",
              "      <td>0</td>\n",
              "      <td>0</td>\n",
              "      <td>1</td>\n",
              "      <td>0</td>\n",
              "      <td>0</td>\n",
              "      <td>0</td>\n",
              "      <td>1</td>\n",
              "      <td>0</td>\n",
              "      <td>0</td>\n",
              "    </tr>\n",
              "  </tbody>\n",
              "</table>\n",
              "<p>1 rows × 96 columns</p>\n",
              "</div>\n",
              "      <button class=\"colab-df-convert\" onclick=\"convertToInteractive('df-5f0b761d-dc3f-4a96-b5df-a4bc5f6eaab3')\"\n",
              "              title=\"Convert this dataframe to an interactive table.\"\n",
              "              style=\"display:none;\">\n",
              "        \n",
              "  <svg xmlns=\"http://www.w3.org/2000/svg\" height=\"24px\"viewBox=\"0 0 24 24\"\n",
              "       width=\"24px\">\n",
              "    <path d=\"M0 0h24v24H0V0z\" fill=\"none\"/>\n",
              "    <path d=\"M18.56 5.44l.94 2.06.94-2.06 2.06-.94-2.06-.94-.94-2.06-.94 2.06-2.06.94zm-11 1L8.5 8.5l.94-2.06 2.06-.94-2.06-.94L8.5 2.5l-.94 2.06-2.06.94zm10 10l.94 2.06.94-2.06 2.06-.94-2.06-.94-.94-2.06-.94 2.06-2.06.94z\"/><path d=\"M17.41 7.96l-1.37-1.37c-.4-.4-.92-.59-1.43-.59-.52 0-1.04.2-1.43.59L10.3 9.45l-7.72 7.72c-.78.78-.78 2.05 0 2.83L4 21.41c.39.39.9.59 1.41.59.51 0 1.02-.2 1.41-.59l7.78-7.78 2.81-2.81c.8-.78.8-2.07 0-2.86zM5.41 20L4 18.59l7.72-7.72 1.47 1.35L5.41 20z\"/>\n",
              "  </svg>\n",
              "      </button>\n",
              "      \n",
              "  <style>\n",
              "    .colab-df-container {\n",
              "      display:flex;\n",
              "      flex-wrap:wrap;\n",
              "      gap: 12px;\n",
              "    }\n",
              "\n",
              "    .colab-df-convert {\n",
              "      background-color: #E8F0FE;\n",
              "      border: none;\n",
              "      border-radius: 50%;\n",
              "      cursor: pointer;\n",
              "      display: none;\n",
              "      fill: #1967D2;\n",
              "      height: 32px;\n",
              "      padding: 0 0 0 0;\n",
              "      width: 32px;\n",
              "    }\n",
              "\n",
              "    .colab-df-convert:hover {\n",
              "      background-color: #E2EBFA;\n",
              "      box-shadow: 0px 1px 2px rgba(60, 64, 67, 0.3), 0px 1px 3px 1px rgba(60, 64, 67, 0.15);\n",
              "      fill: #174EA6;\n",
              "    }\n",
              "\n",
              "    [theme=dark] .colab-df-convert {\n",
              "      background-color: #3B4455;\n",
              "      fill: #D2E3FC;\n",
              "    }\n",
              "\n",
              "    [theme=dark] .colab-df-convert:hover {\n",
              "      background-color: #434B5C;\n",
              "      box-shadow: 0px 1px 3px 1px rgba(0, 0, 0, 0.15);\n",
              "      filter: drop-shadow(0px 1px 2px rgba(0, 0, 0, 0.3));\n",
              "      fill: #FFFFFF;\n",
              "    }\n",
              "  </style>\n",
              "\n",
              "      <script>\n",
              "        const buttonEl =\n",
              "          document.querySelector('#df-5f0b761d-dc3f-4a96-b5df-a4bc5f6eaab3 button.colab-df-convert');\n",
              "        buttonEl.style.display =\n",
              "          google.colab.kernel.accessAllowed ? 'block' : 'none';\n",
              "\n",
              "        async function convertToInteractive(key) {\n",
              "          const element = document.querySelector('#df-5f0b761d-dc3f-4a96-b5df-a4bc5f6eaab3');\n",
              "          const dataTable =\n",
              "            await google.colab.kernel.invokeFunction('convertToInteractive',\n",
              "                                                     [key], {});\n",
              "          if (!dataTable) return;\n",
              "\n",
              "          const docLinkHtml = 'Like what you see? Visit the ' +\n",
              "            '<a target=\"_blank\" href=https://colab.research.google.com/notebooks/data_table.ipynb>data table notebook</a>'\n",
              "            + ' to learn more about interactive tables.';\n",
              "          element.innerHTML = '';\n",
              "          dataTable['output_type'] = 'display_data';\n",
              "          await google.colab.output.renderOutput(dataTable, element);\n",
              "          const docLink = document.createElement('div');\n",
              "          docLink.innerHTML = docLinkHtml;\n",
              "          element.appendChild(docLink);\n",
              "        }\n",
              "      </script>\n",
              "    </div>\n",
              "  </div>\n",
              "  "
            ]
          },
          "metadata": {},
          "execution_count": 7
        }
      ]
    },
    {
      "cell_type": "code",
      "source": [
        "# list(df_data.columns)\n",
        "df_data.columns"
      ],
      "metadata": {
        "colab": {
          "base_uri": "https://localhost:8080/"
        },
        "id": "FXFY3mhwAO7B",
        "outputId": "3826339a-e0ea-4b83-bcc0-73f87141bb60"
      },
      "execution_count": null,
      "outputs": [
        {
          "output_type": "execute_result",
          "data": {
            "text/plain": [
              "Index(['ID', 'EARNINGS', 'S', 'EXP', 'FEMALE', 'MALE', 'BYEAR', 'AGE',\n",
              "       'AGEMBTH', 'HHINC97', 'POVRAT97', 'HHBMBF', 'HHBMOF', 'HHOMBF',\n",
              "       'HHBMONLY', 'HHBFONLY', 'HHOTHER', 'MSA97NO', 'MSA97NCC', 'MSA97CC',\n",
              "       'MSA97NK', 'ETHBLACK', 'ETHHISP', 'ETHWHITE', 'EDUCPROF', 'EDUCPHD',\n",
              "       'EDUCMAST', 'EDUCBA', 'EDUCAA', 'EDUCHSD', 'EDUCGED', 'EDUCDO',\n",
              "       'PRMONM', 'PRMONF', 'PRMSTYUN', 'PRMSTYPE', 'PRMSTYAN', 'PRMSTYAE',\n",
              "       'PRFSTYUN', 'PRFSTYPE', 'PRFSTYAN', 'PRFSTYAE', 'SINGLE', 'MARRIED',\n",
              "       'COHABIT', 'OTHSING', 'FAITHN', 'FAITHP', 'FAITHC', 'FAITHJ', 'FAITHO',\n",
              "       'FAITHM', 'ASVABAR', 'ASVABWK', 'ASVABPC', 'ASVABMK', 'ASVABNO',\n",
              "       'ASVABCS', 'ASVABC', 'ASVABC4', 'VERBAL', 'ASVABMV', 'HEIGHT',\n",
              "       'WEIGHT04', 'WEIGHT11', 'SF', 'SM', 'SFR', 'SMR', 'SIBLINGS', 'REG97NE',\n",
              "       'REG97NC', 'REG97S', 'REG97W', 'RS97RURL', 'RS97URBN', 'RS97UNKN',\n",
              "       'JOBS', 'HOURS', 'TENURE', 'CATGOV', 'CATPRI', 'CATNPO', 'CATMIS',\n",
              "       'CATSE', 'COLLBARG', 'URBAN', 'REGNE', 'REGNC', 'REGW', 'REGS',\n",
              "       'MSA11NO', 'MSA11NCC', 'MSA11CC', 'MSA11NK', 'MSA11NIC'],\n",
              "      dtype='object')"
            ]
          },
          "metadata": {},
          "execution_count": 8
        }
      ]
    },
    {
      "cell_type": "code",
      "source": [
        "df_data.isna().values.any()"
      ],
      "metadata": {
        "colab": {
          "base_uri": "https://localhost:8080/"
        },
        "id": "Y9LPppyoBXi8",
        "outputId": "0f573ba8-015a-4815-cce9-6f13f98c1c07"
      },
      "execution_count": null,
      "outputs": [
        {
          "output_type": "execute_result",
          "data": {
            "text/plain": [
              "True"
            ]
          },
          "metadata": {},
          "execution_count": 9
        }
      ]
    },
    {
      "cell_type": "code",
      "source": [
        "df_data.duplicated().values.any()"
      ],
      "metadata": {
        "colab": {
          "base_uri": "https://localhost:8080/"
        },
        "id": "5Dwm_LPBBnmx",
        "outputId": "0b56aa84-058c-4c38-a258-5107f1204b44"
      },
      "execution_count": null,
      "outputs": [
        {
          "output_type": "execute_result",
          "data": {
            "text/plain": [
              "True"
            ]
          },
          "metadata": {},
          "execution_count": 10
        }
      ]
    },
    {
      "cell_type": "markdown",
      "metadata": {
        "id": "4itxqgP6nQj3"
      },
      "source": [
        "## Data Cleaning - Check for Missing Values and Duplicates\n",
        "\n",
        "Find and remove any duplicate rows."
      ]
    },
    {
      "cell_type": "code",
      "metadata": {
        "id": "J3DHEFXWnS2N"
      },
      "source": [
        "df_data.drop_duplicates(inplace=True)"
      ],
      "execution_count": null,
      "outputs": []
    },
    {
      "cell_type": "code",
      "source": [
        "df_data.shape"
      ],
      "metadata": {
        "colab": {
          "base_uri": "https://localhost:8080/"
        },
        "id": "ue2nHuA_Do9z",
        "outputId": "dd665967-40e6-403c-e021-6b21bdc39d02"
      },
      "execution_count": null,
      "outputs": [
        {
          "output_type": "execute_result",
          "data": {
            "text/plain": [
              "(1487, 96)"
            ]
          },
          "metadata": {},
          "execution_count": 12
        }
      ]
    },
    {
      "cell_type": "markdown",
      "metadata": {
        "id": "gGmBBPxZnVKC"
      },
      "source": [
        "## Descriptive Statistics"
      ]
    },
    {
      "cell_type": "code",
      "metadata": {
        "id": "I5VP2BMVnVrt",
        "colab": {
          "base_uri": "https://localhost:8080/"
        },
        "outputId": "a67f958c-6068-41ed-f6e6-89ab62cc1e2c"
      },
      "source": [
        "df_data.info()"
      ],
      "execution_count": null,
      "outputs": [
        {
          "output_type": "stream",
          "name": "stdout",
          "text": [
            "<class 'pandas.core.frame.DataFrame'>\n",
            "Int64Index: 1487 entries, 0 to 1995\n",
            "Data columns (total 96 columns):\n",
            " #   Column    Non-Null Count  Dtype  \n",
            "---  ------    --------------  -----  \n",
            " 0   ID        1487 non-null   int64  \n",
            " 1   EARNINGS  1487 non-null   float64\n",
            " 2   S         1487 non-null   int64  \n",
            " 3   EXP       1487 non-null   float64\n",
            " 4   FEMALE    1487 non-null   int64  \n",
            " 5   MALE      1487 non-null   int64  \n",
            " 6   BYEAR     1487 non-null   int64  \n",
            " 7   AGE       1487 non-null   int64  \n",
            " 8   AGEMBTH   1453 non-null   float64\n",
            " 9   HHINC97   1205 non-null   float64\n",
            " 10  POVRAT97  1203 non-null   float64\n",
            " 11  HHBMBF    1487 non-null   int64  \n",
            " 12  HHBMOF    1487 non-null   int64  \n",
            " 13  HHOMBF    1487 non-null   int64  \n",
            " 14  HHBMONLY  1487 non-null   int64  \n",
            " 15  HHBFONLY  1487 non-null   int64  \n",
            " 16  HHOTHER   1487 non-null   int64  \n",
            " 17  MSA97NO   1487 non-null   int64  \n",
            " 18  MSA97NCC  1487 non-null   int64  \n",
            " 19  MSA97CC   1487 non-null   int64  \n",
            " 20  MSA97NK   1487 non-null   int64  \n",
            " 21  ETHBLACK  1487 non-null   int64  \n",
            " 22  ETHHISP   1487 non-null   int64  \n",
            " 23  ETHWHITE  1487 non-null   int64  \n",
            " 24  EDUCPROF  1487 non-null   int64  \n",
            " 25  EDUCPHD   1487 non-null   int64  \n",
            " 26  EDUCMAST  1487 non-null   int64  \n",
            " 27  EDUCBA    1487 non-null   int64  \n",
            " 28  EDUCAA    1487 non-null   int64  \n",
            " 29  EDUCHSD   1487 non-null   int64  \n",
            " 30  EDUCGED   1487 non-null   int64  \n",
            " 31  EDUCDO    1487 non-null   int64  \n",
            " 32  PRMONM    851 non-null    float64\n",
            " 33  PRMONF    698 non-null    float64\n",
            " 34  PRMSTYUN  1100 non-null   float64\n",
            " 35  PRMSTYPE  1100 non-null   float64\n",
            " 36  PRMSTYAN  1100 non-null   float64\n",
            " 37  PRMSTYAE  1100 non-null   float64\n",
            " 38  PRFSTYUN  904 non-null    float64\n",
            " 39  PRFSTYPE  904 non-null    float64\n",
            " 40  PRFSTYAN  904 non-null    float64\n",
            " 41  PRFSTYAE  904 non-null    float64\n",
            " 42  SINGLE    1487 non-null   int64  \n",
            " 43  MARRIED   1487 non-null   int64  \n",
            " 44  COHABIT   1487 non-null   int64  \n",
            " 45  OTHSING   1487 non-null   int64  \n",
            " 46  FAITHN    1487 non-null   int64  \n",
            " 47  FAITHP    1487 non-null   int64  \n",
            " 48  FAITHC    1487 non-null   int64  \n",
            " 49  FAITHJ    1487 non-null   int64  \n",
            " 50  FAITHO    1487 non-null   int64  \n",
            " 51  FAITHM    1487 non-null   int64  \n",
            " 52  ASVABAR   1487 non-null   float64\n",
            " 53  ASVABWK   1487 non-null   float64\n",
            " 54  ASVABPC   1487 non-null   float64\n",
            " 55  ASVABMK   1487 non-null   float64\n",
            " 56  ASVABNO   1487 non-null   float64\n",
            " 57  ASVABCS   1487 non-null   float64\n",
            " 58  ASVABC    1487 non-null   float64\n",
            " 59  ASVABC4   1487 non-null   float64\n",
            " 60  VERBAL    1487 non-null   float64\n",
            " 61  ASVABMV   1487 non-null   int64  \n",
            " 62  HEIGHT    1487 non-null   int64  \n",
            " 63  WEIGHT04  1487 non-null   int64  \n",
            " 64  WEIGHT11  1487 non-null   int64  \n",
            " 65  SF        1487 non-null   int64  \n",
            " 66  SM        1487 non-null   int64  \n",
            " 67  SFR       1197 non-null   float64\n",
            " 68  SMR       1430 non-null   float64\n",
            " 69  SIBLINGS  1487 non-null   int64  \n",
            " 70  REG97NE   1487 non-null   int64  \n",
            " 71  REG97NC   1487 non-null   int64  \n",
            " 72  REG97S    1487 non-null   int64  \n",
            " 73  REG97W    1487 non-null   int64  \n",
            " 74  RS97RURL  1487 non-null   int64  \n",
            " 75  RS97URBN  1487 non-null   int64  \n",
            " 76  RS97UNKN  1487 non-null   int64  \n",
            " 77  JOBS      1449 non-null   float64\n",
            " 78  HOURS     1487 non-null   int64  \n",
            " 79  TENURE    1487 non-null   float64\n",
            " 80  CATGOV    1487 non-null   int64  \n",
            " 81  CATPRI    1487 non-null   int64  \n",
            " 82  CATNPO    1487 non-null   int64  \n",
            " 83  CATMIS    1487 non-null   int64  \n",
            " 84  CATSE     1487 non-null   int64  \n",
            " 85  COLLBARG  1487 non-null   int64  \n",
            " 86  URBAN     1487 non-null   int64  \n",
            " 87  REGNE     1487 non-null   int64  \n",
            " 88  REGNC     1487 non-null   int64  \n",
            " 89  REGW      1487 non-null   int64  \n",
            " 90  REGS      1487 non-null   int64  \n",
            " 91  MSA11NO   1487 non-null   int64  \n",
            " 92  MSA11NCC  1487 non-null   int64  \n",
            " 93  MSA11CC   1487 non-null   int64  \n",
            " 94  MSA11NK   1487 non-null   int64  \n",
            " 95  MSA11NIC  1487 non-null   int64  \n",
            "dtypes: float64(28), int64(68)\n",
            "memory usage: 1.1 MB\n"
          ]
        }
      ]
    },
    {
      "cell_type": "code",
      "source": [
        "df_data.describe()"
      ],
      "metadata": {
        "colab": {
          "base_uri": "https://localhost:8080/",
          "height": 393
        },
        "id": "FzOsf4txD7mx",
        "outputId": "316e602a-f9ed-455e-dcf1-d833156f0896"
      },
      "execution_count": null,
      "outputs": [
        {
          "output_type": "execute_result",
          "data": {
            "text/plain": [
              "            ID  EARNINGS        S      EXP   FEMALE     MALE    BYEAR  \\\n",
              "count 1,487.00  1,487.00 1,487.00 1,487.00 1,487.00 1,487.00 1,487.00   \n",
              "mean  3,547.13     18.81    14.56     6.70     0.49     0.51 1,982.07   \n",
              "std   2,009.84     12.00     2.77     2.86     0.50     0.50     1.38   \n",
              "min       1.00      2.00     6.00     0.00     0.00     0.00 1,980.00   \n",
              "25%   1,888.00     11.41    12.00     4.65     0.00     0.00 1,981.00   \n",
              "50%   3,474.00     15.75    15.00     6.63     0.00     1.00 1,982.00   \n",
              "75%   5,160.50     22.60    16.00     8.71     1.00     1.00 1,983.00   \n",
              "max   8,980.00    132.89    20.00    14.73     1.00     1.00 1,984.00   \n",
              "\n",
              "           AGE  AGEMBTH    HHINC97  ...    URBAN    REGNE    REGNC     REGW  \\\n",
              "count 1,487.00 1,453.00   1,205.00  ... 1,487.00 1,487.00 1,487.00 1,487.00   \n",
              "mean     28.93    26.32  58,310.67  ...     0.78     0.16     0.27     0.34   \n",
              "std       1.38     5.08  43,868.05  ...     0.43     0.36     0.44     0.47   \n",
              "min      27.00    12.00       0.00  ...     0.00     0.00     0.00     0.00   \n",
              "25%      28.00    23.00  32,000.00  ...     1.00     0.00     0.00     0.00   \n",
              "50%      29.00    26.00  50,500.00  ...     1.00     0.00     0.00     0.00   \n",
              "75%      30.00    30.00  72,000.00  ...     1.00     0.00     1.00     1.00   \n",
              "max      31.00    45.00 246,474.00  ...     2.00     1.00     1.00     1.00   \n",
              "\n",
              "          REGS  MSA11NO  MSA11NCC  MSA11CC  MSA11NK  MSA11NIC  \n",
              "count 1,487.00 1,487.00  1,487.00 1,487.00 1,487.00  1,487.00  \n",
              "mean      0.23     0.05      0.54     0.41     0.00      0.00  \n",
              "std       0.42     0.21      0.50     0.49     0.04      0.00  \n",
              "min       0.00     0.00      0.00     0.00     0.00      0.00  \n",
              "25%       0.00     0.00      0.00     0.00     0.00      0.00  \n",
              "50%       0.00     0.00      1.00     0.00     0.00      0.00  \n",
              "75%       0.00     0.00      1.00     1.00     0.00      0.00  \n",
              "max       1.00     1.00      1.00     1.00     1.00      0.00  \n",
              "\n",
              "[8 rows x 96 columns]"
            ],
            "text/html": [
              "\n",
              "  <div id=\"df-48c86cbd-18ee-42ed-9a94-dc46f836f9ab\">\n",
              "    <div class=\"colab-df-container\">\n",
              "      <div>\n",
              "<style scoped>\n",
              "    .dataframe tbody tr th:only-of-type {\n",
              "        vertical-align: middle;\n",
              "    }\n",
              "\n",
              "    .dataframe tbody tr th {\n",
              "        vertical-align: top;\n",
              "    }\n",
              "\n",
              "    .dataframe thead th {\n",
              "        text-align: right;\n",
              "    }\n",
              "</style>\n",
              "<table border=\"1\" class=\"dataframe\">\n",
              "  <thead>\n",
              "    <tr style=\"text-align: right;\">\n",
              "      <th></th>\n",
              "      <th>ID</th>\n",
              "      <th>EARNINGS</th>\n",
              "      <th>S</th>\n",
              "      <th>EXP</th>\n",
              "      <th>FEMALE</th>\n",
              "      <th>MALE</th>\n",
              "      <th>BYEAR</th>\n",
              "      <th>AGE</th>\n",
              "      <th>AGEMBTH</th>\n",
              "      <th>HHINC97</th>\n",
              "      <th>...</th>\n",
              "      <th>URBAN</th>\n",
              "      <th>REGNE</th>\n",
              "      <th>REGNC</th>\n",
              "      <th>REGW</th>\n",
              "      <th>REGS</th>\n",
              "      <th>MSA11NO</th>\n",
              "      <th>MSA11NCC</th>\n",
              "      <th>MSA11CC</th>\n",
              "      <th>MSA11NK</th>\n",
              "      <th>MSA11NIC</th>\n",
              "    </tr>\n",
              "  </thead>\n",
              "  <tbody>\n",
              "    <tr>\n",
              "      <th>count</th>\n",
              "      <td>1,487.00</td>\n",
              "      <td>1,487.00</td>\n",
              "      <td>1,487.00</td>\n",
              "      <td>1,487.00</td>\n",
              "      <td>1,487.00</td>\n",
              "      <td>1,487.00</td>\n",
              "      <td>1,487.00</td>\n",
              "      <td>1,487.00</td>\n",
              "      <td>1,453.00</td>\n",
              "      <td>1,205.00</td>\n",
              "      <td>...</td>\n",
              "      <td>1,487.00</td>\n",
              "      <td>1,487.00</td>\n",
              "      <td>1,487.00</td>\n",
              "      <td>1,487.00</td>\n",
              "      <td>1,487.00</td>\n",
              "      <td>1,487.00</td>\n",
              "      <td>1,487.00</td>\n",
              "      <td>1,487.00</td>\n",
              "      <td>1,487.00</td>\n",
              "      <td>1,487.00</td>\n",
              "    </tr>\n",
              "    <tr>\n",
              "      <th>mean</th>\n",
              "      <td>3,547.13</td>\n",
              "      <td>18.81</td>\n",
              "      <td>14.56</td>\n",
              "      <td>6.70</td>\n",
              "      <td>0.49</td>\n",
              "      <td>0.51</td>\n",
              "      <td>1,982.07</td>\n",
              "      <td>28.93</td>\n",
              "      <td>26.32</td>\n",
              "      <td>58,310.67</td>\n",
              "      <td>...</td>\n",
              "      <td>0.78</td>\n",
              "      <td>0.16</td>\n",
              "      <td>0.27</td>\n",
              "      <td>0.34</td>\n",
              "      <td>0.23</td>\n",
              "      <td>0.05</td>\n",
              "      <td>0.54</td>\n",
              "      <td>0.41</td>\n",
              "      <td>0.00</td>\n",
              "      <td>0.00</td>\n",
              "    </tr>\n",
              "    <tr>\n",
              "      <th>std</th>\n",
              "      <td>2,009.84</td>\n",
              "      <td>12.00</td>\n",
              "      <td>2.77</td>\n",
              "      <td>2.86</td>\n",
              "      <td>0.50</td>\n",
              "      <td>0.50</td>\n",
              "      <td>1.38</td>\n",
              "      <td>1.38</td>\n",
              "      <td>5.08</td>\n",
              "      <td>43,868.05</td>\n",
              "      <td>...</td>\n",
              "      <td>0.43</td>\n",
              "      <td>0.36</td>\n",
              "      <td>0.44</td>\n",
              "      <td>0.47</td>\n",
              "      <td>0.42</td>\n",
              "      <td>0.21</td>\n",
              "      <td>0.50</td>\n",
              "      <td>0.49</td>\n",
              "      <td>0.04</td>\n",
              "      <td>0.00</td>\n",
              "    </tr>\n",
              "    <tr>\n",
              "      <th>min</th>\n",
              "      <td>1.00</td>\n",
              "      <td>2.00</td>\n",
              "      <td>6.00</td>\n",
              "      <td>0.00</td>\n",
              "      <td>0.00</td>\n",
              "      <td>0.00</td>\n",
              "      <td>1,980.00</td>\n",
              "      <td>27.00</td>\n",
              "      <td>12.00</td>\n",
              "      <td>0.00</td>\n",
              "      <td>...</td>\n",
              "      <td>0.00</td>\n",
              "      <td>0.00</td>\n",
              "      <td>0.00</td>\n",
              "      <td>0.00</td>\n",
              "      <td>0.00</td>\n",
              "      <td>0.00</td>\n",
              "      <td>0.00</td>\n",
              "      <td>0.00</td>\n",
              "      <td>0.00</td>\n",
              "      <td>0.00</td>\n",
              "    </tr>\n",
              "    <tr>\n",
              "      <th>25%</th>\n",
              "      <td>1,888.00</td>\n",
              "      <td>11.41</td>\n",
              "      <td>12.00</td>\n",
              "      <td>4.65</td>\n",
              "      <td>0.00</td>\n",
              "      <td>0.00</td>\n",
              "      <td>1,981.00</td>\n",
              "      <td>28.00</td>\n",
              "      <td>23.00</td>\n",
              "      <td>32,000.00</td>\n",
              "      <td>...</td>\n",
              "      <td>1.00</td>\n",
              "      <td>0.00</td>\n",
              "      <td>0.00</td>\n",
              "      <td>0.00</td>\n",
              "      <td>0.00</td>\n",
              "      <td>0.00</td>\n",
              "      <td>0.00</td>\n",
              "      <td>0.00</td>\n",
              "      <td>0.00</td>\n",
              "      <td>0.00</td>\n",
              "    </tr>\n",
              "    <tr>\n",
              "      <th>50%</th>\n",
              "      <td>3,474.00</td>\n",
              "      <td>15.75</td>\n",
              "      <td>15.00</td>\n",
              "      <td>6.63</td>\n",
              "      <td>0.00</td>\n",
              "      <td>1.00</td>\n",
              "      <td>1,982.00</td>\n",
              "      <td>29.00</td>\n",
              "      <td>26.00</td>\n",
              "      <td>50,500.00</td>\n",
              "      <td>...</td>\n",
              "      <td>1.00</td>\n",
              "      <td>0.00</td>\n",
              "      <td>0.00</td>\n",
              "      <td>0.00</td>\n",
              "      <td>0.00</td>\n",
              "      <td>0.00</td>\n",
              "      <td>1.00</td>\n",
              "      <td>0.00</td>\n",
              "      <td>0.00</td>\n",
              "      <td>0.00</td>\n",
              "    </tr>\n",
              "    <tr>\n",
              "      <th>75%</th>\n",
              "      <td>5,160.50</td>\n",
              "      <td>22.60</td>\n",
              "      <td>16.00</td>\n",
              "      <td>8.71</td>\n",
              "      <td>1.00</td>\n",
              "      <td>1.00</td>\n",
              "      <td>1,983.00</td>\n",
              "      <td>30.00</td>\n",
              "      <td>30.00</td>\n",
              "      <td>72,000.00</td>\n",
              "      <td>...</td>\n",
              "      <td>1.00</td>\n",
              "      <td>0.00</td>\n",
              "      <td>1.00</td>\n",
              "      <td>1.00</td>\n",
              "      <td>0.00</td>\n",
              "      <td>0.00</td>\n",
              "      <td>1.00</td>\n",
              "      <td>1.00</td>\n",
              "      <td>0.00</td>\n",
              "      <td>0.00</td>\n",
              "    </tr>\n",
              "    <tr>\n",
              "      <th>max</th>\n",
              "      <td>8,980.00</td>\n",
              "      <td>132.89</td>\n",
              "      <td>20.00</td>\n",
              "      <td>14.73</td>\n",
              "      <td>1.00</td>\n",
              "      <td>1.00</td>\n",
              "      <td>1,984.00</td>\n",
              "      <td>31.00</td>\n",
              "      <td>45.00</td>\n",
              "      <td>246,474.00</td>\n",
              "      <td>...</td>\n",
              "      <td>2.00</td>\n",
              "      <td>1.00</td>\n",
              "      <td>1.00</td>\n",
              "      <td>1.00</td>\n",
              "      <td>1.00</td>\n",
              "      <td>1.00</td>\n",
              "      <td>1.00</td>\n",
              "      <td>1.00</td>\n",
              "      <td>1.00</td>\n",
              "      <td>0.00</td>\n",
              "    </tr>\n",
              "  </tbody>\n",
              "</table>\n",
              "<p>8 rows × 96 columns</p>\n",
              "</div>\n",
              "      <button class=\"colab-df-convert\" onclick=\"convertToInteractive('df-48c86cbd-18ee-42ed-9a94-dc46f836f9ab')\"\n",
              "              title=\"Convert this dataframe to an interactive table.\"\n",
              "              style=\"display:none;\">\n",
              "        \n",
              "  <svg xmlns=\"http://www.w3.org/2000/svg\" height=\"24px\"viewBox=\"0 0 24 24\"\n",
              "       width=\"24px\">\n",
              "    <path d=\"M0 0h24v24H0V0z\" fill=\"none\"/>\n",
              "    <path d=\"M18.56 5.44l.94 2.06.94-2.06 2.06-.94-2.06-.94-.94-2.06-.94 2.06-2.06.94zm-11 1L8.5 8.5l.94-2.06 2.06-.94-2.06-.94L8.5 2.5l-.94 2.06-2.06.94zm10 10l.94 2.06.94-2.06 2.06-.94-2.06-.94-.94-2.06-.94 2.06-2.06.94z\"/><path d=\"M17.41 7.96l-1.37-1.37c-.4-.4-.92-.59-1.43-.59-.52 0-1.04.2-1.43.59L10.3 9.45l-7.72 7.72c-.78.78-.78 2.05 0 2.83L4 21.41c.39.39.9.59 1.41.59.51 0 1.02-.2 1.41-.59l7.78-7.78 2.81-2.81c.8-.78.8-2.07 0-2.86zM5.41 20L4 18.59l7.72-7.72 1.47 1.35L5.41 20z\"/>\n",
              "  </svg>\n",
              "      </button>\n",
              "      \n",
              "  <style>\n",
              "    .colab-df-container {\n",
              "      display:flex;\n",
              "      flex-wrap:wrap;\n",
              "      gap: 12px;\n",
              "    }\n",
              "\n",
              "    .colab-df-convert {\n",
              "      background-color: #E8F0FE;\n",
              "      border: none;\n",
              "      border-radius: 50%;\n",
              "      cursor: pointer;\n",
              "      display: none;\n",
              "      fill: #1967D2;\n",
              "      height: 32px;\n",
              "      padding: 0 0 0 0;\n",
              "      width: 32px;\n",
              "    }\n",
              "\n",
              "    .colab-df-convert:hover {\n",
              "      background-color: #E2EBFA;\n",
              "      box-shadow: 0px 1px 2px rgba(60, 64, 67, 0.3), 0px 1px 3px 1px rgba(60, 64, 67, 0.15);\n",
              "      fill: #174EA6;\n",
              "    }\n",
              "\n",
              "    [theme=dark] .colab-df-convert {\n",
              "      background-color: #3B4455;\n",
              "      fill: #D2E3FC;\n",
              "    }\n",
              "\n",
              "    [theme=dark] .colab-df-convert:hover {\n",
              "      background-color: #434B5C;\n",
              "      box-shadow: 0px 1px 3px 1px rgba(0, 0, 0, 0.15);\n",
              "      filter: drop-shadow(0px 1px 2px rgba(0, 0, 0, 0.3));\n",
              "      fill: #FFFFFF;\n",
              "    }\n",
              "  </style>\n",
              "\n",
              "      <script>\n",
              "        const buttonEl =\n",
              "          document.querySelector('#df-48c86cbd-18ee-42ed-9a94-dc46f836f9ab button.colab-df-convert');\n",
              "        buttonEl.style.display =\n",
              "          google.colab.kernel.accessAllowed ? 'block' : 'none';\n",
              "\n",
              "        async function convertToInteractive(key) {\n",
              "          const element = document.querySelector('#df-48c86cbd-18ee-42ed-9a94-dc46f836f9ab');\n",
              "          const dataTable =\n",
              "            await google.colab.kernel.invokeFunction('convertToInteractive',\n",
              "                                                     [key], {});\n",
              "          if (!dataTable) return;\n",
              "\n",
              "          const docLinkHtml = 'Like what you see? Visit the ' +\n",
              "            '<a target=\"_blank\" href=https://colab.research.google.com/notebooks/data_table.ipynb>data table notebook</a>'\n",
              "            + ' to learn more about interactive tables.';\n",
              "          element.innerHTML = '';\n",
              "          dataTable['output_type'] = 'display_data';\n",
              "          await google.colab.output.renderOutput(dataTable, element);\n",
              "          const docLink = document.createElement('div');\n",
              "          docLink.innerHTML = docLinkHtml;\n",
              "          element.appendChild(docLink);\n",
              "        }\n",
              "      </script>\n",
              "    </div>\n",
              "  </div>\n",
              "  "
            ]
          },
          "metadata": {},
          "execution_count": 14
        }
      ]
    },
    {
      "cell_type": "markdown",
      "metadata": {
        "id": "ZO-86NXbnWSH"
      },
      "source": [
        "## Visualise the Features"
      ]
    },
    {
      "cell_type": "code",
      "metadata": {
        "id": "hFZJjbsKncPM"
      },
      "source": [],
      "execution_count": null,
      "outputs": []
    },
    {
      "cell_type": "markdown",
      "metadata": {
        "id": "9i4zHYG4nhDL"
      },
      "source": [
        "# Split Training & Test Dataset\n",
        "\n",
        "We *can't* use all the entries in our dataset to train our model. Keep 20% of the data for later as a testing dataset (out-of-sample data).  "
      ]
    },
    {
      "cell_type": "code",
      "metadata": {
        "id": "M_OfRSyunkA1"
      },
      "source": [
        "X_train, X_test, y_train, y_test = train_test_split(df_data.loc[:, df_data.columns != \"EARNINGS\"], df_data[\"EARNINGS\"], train_size=0.8, test_size=0.2, random_state=10)"
      ],
      "execution_count": null,
      "outputs": []
    },
    {
      "cell_type": "markdown",
      "metadata": {
        "id": "EM99NOH0noFS"
      },
      "source": [
        "# Simple Linear Regression\n",
        "\n",
        "Only use the years of schooling to predict earnings. Use sklearn to run the regression on the training dataset. How high is the r-squared for the regression on the training data? "
      ]
    },
    {
      "cell_type": "code",
      "metadata": {
        "id": "J_MViuoNnvHf"
      },
      "source": [
        "regression = LinearRegression()"
      ],
      "execution_count": null,
      "outputs": []
    },
    {
      "cell_type": "code",
      "source": [
        "X_train = pd.DataFrame(X_train)\n",
        "y_train = pd.DataFrame(y_train)"
      ],
      "metadata": {
        "id": "9J4KeDiRPvUu"
      },
      "execution_count": null,
      "outputs": []
    },
    {
      "cell_type": "code",
      "source": [
        "schooling = pd.DataFrame(X_train[\"S\"])"
      ],
      "metadata": {
        "id": "reey2YRdPBp5"
      },
      "execution_count": null,
      "outputs": []
    },
    {
      "cell_type": "code",
      "source": [
        "regression.fit(schooling, y_train)"
      ],
      "metadata": {
        "colab": {
          "base_uri": "https://localhost:8080/"
        },
        "id": "vD7SQU1HQnT-",
        "outputId": "26e6b253-cc13-4b26-fdbe-e9410a561d4d"
      },
      "execution_count": null,
      "outputs": [
        {
          "output_type": "execute_result",
          "data": {
            "text/plain": [
              "LinearRegression()"
            ]
          },
          "metadata": {},
          "execution_count": 19
        }
      ]
    },
    {
      "cell_type": "code",
      "source": [
        "regression.intercept_"
      ],
      "metadata": {
        "colab": {
          "base_uri": "https://localhost:8080/"
        },
        "id": "Fidt5ZJyQ8Ix",
        "outputId": "29a58700-f3e6-40c8-acd1-4412240b5963"
      },
      "execution_count": null,
      "outputs": [
        {
          "output_type": "execute_result",
          "data": {
            "text/plain": [
              "array([1.02890741])"
            ]
          },
          "metadata": {},
          "execution_count": 20
        }
      ]
    },
    {
      "cell_type": "code",
      "source": [
        "regression.coef_"
      ],
      "metadata": {
        "colab": {
          "base_uri": "https://localhost:8080/"
        },
        "id": "VM2ElDOfRAWw",
        "outputId": "5df5d5d1-495c-459b-ece2-428a8d3ea473"
      },
      "execution_count": null,
      "outputs": [
        {
          "output_type": "execute_result",
          "data": {
            "text/plain": [
              "array([[1.21917798]])"
            ]
          },
          "metadata": {},
          "execution_count": 21
        }
      ]
    },
    {
      "cell_type": "code",
      "source": [
        "# R-squared\n",
        "regression.score(schooling, y_train)"
      ],
      "metadata": {
        "colab": {
          "base_uri": "https://localhost:8080/"
        },
        "id": "CC4PyatnRD2P",
        "outputId": "608c3ba1-fcc5-42cd-8a46-b3826c60fd26"
      },
      "execution_count": null,
      "outputs": [
        {
          "output_type": "execute_result",
          "data": {
            "text/plain": [
              "0.08085050566060015"
            ]
          },
          "metadata": {},
          "execution_count": 22
        }
      ]
    },
    {
      "cell_type": "markdown",
      "metadata": {
        "id": "s2TeWKs7oJSa"
      },
      "source": [
        "### Evaluate the Coefficients of the Model\n",
        "\n",
        "Here we do a sense check on our regression coefficients. The first thing to look for is if the coefficients have the expected sign (positive or negative). \n",
        "\n",
        "Interpret the regression. How many extra dollars can one expect to earn for an additional year of schooling?"
      ]
    },
    {
      "cell_type": "code",
      "metadata": {
        "id": "QmhzZAmAoW4t",
        "colab": {
          "base_uri": "https://localhost:8080/"
        },
        "outputId": "98b7698a-e4f8-48bd-abf5-2ea1bb8129a4"
      },
      "source": [
        "print(f\"For one extra year of schooling, you can expect to earn {round(regression.coef_[0][0], 2)} more dollars.\")"
      ],
      "execution_count": null,
      "outputs": [
        {
          "output_type": "stream",
          "name": "stdout",
          "text": [
            "For one extra year of schooling, you can expect to earn 1.22 more dollars.\n"
          ]
        }
      ]
    },
    {
      "cell_type": "markdown",
      "metadata": {
        "id": "WIyMPXXYobx8"
      },
      "source": [
        "### Analyse the Estimated Values & Regression Residuals\n",
        "\n",
        "How good our regression is also depends on the residuals - the difference between the model's predictions ( 𝑦̂ 𝑖 ) and the true values ( 𝑦𝑖 ) inside y_train. Do you see any patterns in the distribution of the residuals?"
      ]
    },
    {
      "cell_type": "code",
      "metadata": {
        "id": "khkgscweosP_"
      },
      "source": [
        "predicted_values = regression.predict(schooling)\n",
        "residuals = y_train - predicted_values\n",
        "df_compare = pd.DataFrame()\n",
        "df_compare[\"true_values\"] = y_train\n",
        "df_compare[\"predicted\"] = predicted_values\n",
        "df_compare[\"residuals\"] = residuals"
      ],
      "execution_count": null,
      "outputs": []
    },
    {
      "cell_type": "code",
      "metadata": {
        "id": "m_diDXSXotm6",
        "colab": {
          "base_uri": "https://localhost:8080/",
          "height": 542
        },
        "outputId": "13452188-701a-474f-f583-02b3489878b3"
      },
      "source": [
        "scatter = px.scatter(df_compare, x=df_compare.true_values, y=df_compare.predicted)\n",
        "scatter.update_layout(\n",
        "    title=\"Predicted vs true earnings\",\n",
        "    yaxis_title=\"Predicted value\",\n",
        "    xaxis_title=\"True value\"\n",
        ")"
      ],
      "execution_count": null,
      "outputs": [
        {
          "output_type": "display_data",
          "data": {
            "text/html": [
              "<html>\n",
              "<head><meta charset=\"utf-8\" /></head>\n",
              "<body>\n",
              "    <div>            <script src=\"https://cdnjs.cloudflare.com/ajax/libs/mathjax/2.7.5/MathJax.js?config=TeX-AMS-MML_SVG\"></script><script type=\"text/javascript\">if (window.MathJax && window.MathJax.Hub && window.MathJax.Hub.Config) {window.MathJax.Hub.Config({SVG: {font: \"STIX-Web\"}});}</script>                <script type=\"text/javascript\">window.PlotlyConfig = {MathJaxConfig: 'local'};</script>\n",
              "        <script src=\"https://cdn.plot.ly/plotly-2.17.1.min.js\"></script>                <div id=\"d7311d27-c364-4eaf-a8d2-5fb4eb0e5f6b\" class=\"plotly-graph-div\" style=\"height:525px; width:100%;\"></div>            <script type=\"text/javascript\">                                    window.PLOTLYENV=window.PLOTLYENV || {};                                    if (document.getElementById(\"d7311d27-c364-4eaf-a8d2-5fb4eb0e5f6b\")) {                    Plotly.newPlot(                        \"d7311d27-c364-4eaf-a8d2-5fb4eb0e5f6b\",                        [{\"hovertemplate\":\"true_values=%{x}<br>predicted=%{y}<extra></extra>\",\"legendgroup\":\"\",\"marker\":{\"color\":\"#636efa\",\"symbol\":\"circle\"},\"mode\":\"markers\",\"name\":\"\",\"showlegend\":false,\"x\":[5.76,15.38,20.0,17.78,16.0,18.27,14.5,7.5,16.83,38.48,15.0,16.67,7.5,25.38,22.81,23.58,14.0,33.65,21.35,10.0,2.13,22.3,16.92,12.0,8.55,34.19,43.27,17.09,13.0,32.0,9.0,14.5,35.04,25.0,24.0,14.62,36.32,14.86,18.0,11.0,35.03,12.3,10.0,13.74,13.0,24.52,12.5,11.01,11.5,28.85,22.0,16.25,27.81,26.5,17.5,43.58,12.0,8.6,17.0,8.5,10.0,10.0,32.0,13.35,3.75,18.01,26.22,12.25,19.71,12.0,13.5,11.0,32.42,14.5,11.54,9.14,10.0,10.75,13.0,19.05,15.29,16.0,12.03,23.08,9.0,7.0,15.5,20.02,12.0,12.68,9.37,12.35,20.5,19.23,35.5,3.49,6.67,62.0,22.44,7.5,29.91,11.54,5.81,14.1,22.73,9.5,22.36,40.0,22.6,18.75,7.25,15.0,19.23,12.5,18.32,10.0,18.33,15.0,55.0,11.75,18.75,26.0,30.23,3.74,30.77,8.33,16.35,27.04,20.0,14.0,7.65,14.42,67.0,27.5,45.67,11.1,18.46,46.49,39.23,22.0,12.85,17.88,31.0,21.31,9.0,9.35,19.55,41.0,21.42,17.0,17.0,13.65,17.0,13.75,32.21,9.0,15.0,25.16,15.2,14.4,7.38,17.0,11.88,35.0,14.5,36.71,2.74,18.4,28.75,17.13,15.21,26.49,7.9,17.78,5.88,10.47,62.02,28.0,16.2,8.0,25.6,18.47,8.7,11.89,19.77,22.0,16.83,2.0,20.0,18.0,26.8,8.25,20.0,14.25,34.07,12.74,13.29,16.64,2.64,15.7,9.5,36.32,17.5,10.0,21.78,29.0,16.0,20.0,8.65,13.17,12.0,42.68,50.0,9.42,12.11,14.0,14.24,20.0,54.95,17.5,6.5,9.0,16.0,11.3,16.0,48.5,30.0,12.0,17.48,28.85,35.0,26.0,14.0,18.38,7.35,9.8,2.63,39.74,20.15,18.75,12.21,15.0,36.0,23.08,9.0,35.0,12.0,17.57,12.0,11.25,31.25,15.25,10.0,10.5,7.36,37.1,15.0,16.67,35.0,8.0,8.0,13.75,9.0,13.65,22.67,14.0,19.1,7.43,40.38,7.25,14.25,10.0,24.94,5.0,23.26,25.0,22.6,9.0,17.3,19.5,21.63,10.82,17.22,8.75,10.25,10.0,14.17,8.5,27.4,20.0,20.0,13.77,38.46,10.0,22.0,14.69,7.25,16.16,91.67,28.84,13.75,28.57,18.75,11.54,12.0,15.0,22.65,19.0,23.0,18.03,9.18,9.0,9.0,15.0,13.0,8.0,19.05,18.75,22.3,12.0,12.89,17.0,25.0,15.5,15.77,20.98,10.0,30.0,25.0,25.21,25.64,13.62,7.5,20.93,40.0,10.16,9.0,22.11,14.0,22.0,9.55,14.86,27.5,30.29,26.92,10.0,13.18,10.5,10.13,11.63,13.0,30.77,34.34,7.5,7.52,45.0,13.36,27.0,47.0,15.8,22.19,10.25,14.9,15.11,11.0,26.24,34.0,17.31,23.0,15.34,17.19,14.25,14.5,28.85,15.38,22.5,15.0,19.0,7.25,25.0,23.4,2.13,11.63,18.0,7.64,26.0,29.07,18.5,21.37,40.38,15.0,10.14,13.0,32.52,19.23,13.69,24.85,31.54,8.81,18.33,21.22,28.85,20.3,12.77,8.3,15.09,50.0,10.0,22.1,20.0,12.0,6.0,21.8,15.94,13.5,19.5,16.0,17.0,96.15,28.52,10.0,23.08,21.5,29.07,15.0,14.4,16.99,10.5,18.46,11.0,7.75,15.0,28.85,12.5,8.5,14.01,17.79,18.6,14.55,11.5,12.0,10.5,8.5,12.15,12.31,26.44,25.48,13.9,15.0,8.5,8.0,11.0,32.69,20.67,18.45,9.75,36.94,19.83,26.5,14.0,10.0,19.27,22.44,15.75,15.1,23.65,20.19,8.0,36.54,14.95,23.08,10.2,16.83,10.0,17.5,50.0,8.5,14.65,9.85,13.5,8.0,17.5,20.0,9.62,13.37,8.0,24.0,17.2,9.27,64.9,12.0,22.44,29.25,24.04,14.54,28.95,18.0,9.95,8.0,13.5,12.0,39.0,19.93,2.13,9.3,38.46,6.43,18.25,27.18,8.5,28.5,14.0,12.0,12.98,18.23,14.96,21.0,9.27,9.5,17.75,14.24,20.0,18.27,33.33,8.0,13.0,24.5,19.38,19.87,13.94,13.5,34.0,9.5,23.72,12.95,9.0,9.5,25.6,57.0,13.36,16.0,12.0,28.75,18.0,11.11,16.4,11.87,13.0,15.38,25.0,8.24,26.0,8.0,20.0,50.48,39.74,18.36,7.65,34.4,10.94,19.48,9.9,23.33,15.5,5.25,7.5,13.31,17.2,132.89,18.75,35.0,37.0,9.5,25.0,15.62,15.0,28.85,20.0,15.26,6.25,18.33,10.0,8.0,28.85,2.65,35.39,12.0,9.97,19.0,8.39,56.25,15.18,8.25,26.44,10.5,14.19,7.25,14.5,26.75,12.5,8.5,58.14,9.0,55.94,10.47,7.25,30.0,18.0,14.67,2.5,15.45,25.64,7.15,12.74,20.0,11.54,18.0,21.63,14.36,21.0,25.58,10.58,8.9,20.51,40.0,22.69,16.83,15.0,8.67,10.0,16.67,8.5,21.73,15.0,12.32,11.03,12.08,12.0,18.0,15.83,13.46,8.15,18.32,12.58,13.0,8.75,17.13,22.6,7.25,26.42,7.25,19.8,16.83,10.0,9.25,10.0,8.0,20.0,19.23,20.51,14.0,35.98,30.0,11.0,26.0,6.25,11.3,36.54,8.95,10.5,12.61,20.16,36.08,12.5,16.8,22.5,9.17,19.0,2.13,14.57,15.0,26.53,7.75,14.5,16.87,9.0,34.62,34.88,15.0,9.0,11.24,15.4,29.1,7.27,16.0,11.0,16.83,60.1,20.75,19.26,13.74,7.25,27.89,12.04,35.0,2.26,29.09,21.15,10.58,8.57,17.5,19.23,6.99,21.79,14.0,8.5,9.5,17.0,13.0,40.0,28.46,22.0,34.0,26.15,15.0,25.0,11.5,7.05,12.4,14.35,65.0,15.28,5.0,10.0,12.0,35.58,26.5,14.5,9.5,9.0,45.0,21.66,28.62,25.64,8.0,21.63,8.35,16.5,11.25,19.0,13.0,17.12,10.0,20.67,8.0,21.15,25.0,19.71,17.0,13.95,25.0,12.0,7.0,34.27,9.36,18.27,20.98,7.25,25.0,22.6,13.33,21.0,15.38,16.83,21.79,16.9,17.88,18.0,48.08,13.22,9.1,18.55,25.0,12.86,20.77,60.9,8.0,9.1,41.15,35.88,22.31,9.75,17.5,52.0,35.0,8.81,14.81,11.0,15.97,2.83,10.25,22.95,15.0,16.73,16.25,28.0,11.25,29.33,15.21,50.0,34.01,21.92,7.6,18.5,27.13,16.0,10.0,15.0,41.2,6.25,23.08,11.4,13.25,18.5,16.01,22.31,18.36,13.0,26.66,31.73,24.04,12.5,17.63,12.0,40.0,15.0,14.45,7.75,12.0,18.65,13.19,12.5,11.5,14.0,9.32,18.99,8.0,17.31,7.85,9.0,18.0,10.0,24.04,12.34,8.75,24.23,26.5,12.5,28.52,13.44,16.82,14.0,41.0,14.0,30.63,10.0,20.67,46.15,10.0,27.0,20.48,20.43,17.67,13.21,13.46,12.53,25.3,9.45,28.37,17.94,10.0,33.4,32.31,15.0,15.0,15.09,15.45,9.0,12.78,9.5,8.0,14.53,17.65,9.5,7.25,15.68,5.0,13.0,40.0,22.89,14.18,27.5,16.35,35.25,25.21,18.75,19.9,12.0,10.82,39.05,60.0,10.25,15.65,17.31,14.83,10.0,17.86,25.0,28.5,20.0,50.48,11.23,34.72,16.67,25.0,18.0,11.0,37.25,86.54,38.46,47.4,12.8,28.0,123.08,14.96,13.0,21.63,19.5,20.43,12.0,11.16,20.6,13.15,11.42,13.32,21.57,9.0,14.5,11.81,16.0,13.69,24.04,9.0,20.43,7.2,15.38,10.44,11.78,20.93,13.14,9.29,32.05,11.0,14.0,15.8,12.0,27.13,12.75,22.0,15.0,13.5,10.5,15.0,21.0,16.5,33.65,30.0,3.03,13.74,15.87,23.39,11.0,13.46,13.46,25.64,16.24,16.73,46.15,10.0,18.5,16.0,24.13,7.25,17.6,12.0,15.0,28.72,9.3,25.15,19.82,10.0,49.02,9.0,9.62,9.51,25.5,18.14,9.5,13.5,14.71,8.75,14.86,18.75,8.5,10.0,10.41,10.95,25.05,27.65,10.24,11.25,22.29,16.0,23.26,26.5,11.65,24.8,12.5,23.0,10.0,9.0,15.0,17.0,34.62,11.5,25.64,21.0,9.0,18.5,7.65,12.0,15.38,30.77,18.6,22.0,14.1,10.5,25.13,10.2,11.05,9.0,9.25,12.5,22.0,17.0,3.65,2.78,4.64,19.23,40.06,16.99,32.08,22.56,26.8,16.0,32.5,9.5,19.23,9.5,4.38,7.5,13.52,23.08,10.3,30.05,10.5,18.8,13.49,34.95,16.97,11.0,10.0,11.0,36.54,29.19,18.99,16.0,51.0,17.25,21.0,32.69,17.71,14.3,8.25,21.0,18.31,2.65,23.08,18.5,14.75,10.5,12.5,36.62,8.32,13.5,16.0,14.74,16.0,15.35,5.25,16.3,30.49,27.88,22.0,15.0,15.0,9.29,2.13,11.09,15.38,21.63,17.79,19.71,29.07,36.06,10.0,12.94,9.5,15.0,5.0,25.48,11.11,13.33,18.16,18.72,16.16,23.99,27.27,25.0,15.0,12.5,8.5,19.71,23.16,9.45,16.7,10.5,15.7,17.1,13.0,21.79,62.5,14.75,79.17,21.5,13.78,21.0,11.78,14.0,8.5,17.46,11.5,13.5,16.2,6.67,19.72,8.25,48.72,10.5,26.42,67.45,11.0,48.56,29.91,14.5,17.44,8.0,19.88,6.74,4.29,13.33,15.0,11.1,11.98,45.67,19.5,26.0,40.0,26.44],\"xaxis\":\"x\",\"y\":[18.09739915876467,20.535755122767135,13.220687230759737,15.659043194762203,22.9741110867696,20.535755122767135,18.09739915876467,15.659043194762203,20.535755122767135,20.535755122767135,12.001509248758504,20.535755122767135,15.659043194762203,20.535755122767135,20.535755122767135,20.535755122767135,16.878221176763436,19.3165771407659,25.412467050772065,25.412467050772065,20.535755122767135,20.535755122767135,24.193289068770834,19.3165771407659,12.001509248758504,20.535755122767135,21.75493310476837,20.535755122767135,15.659043194762203,20.535755122767135,18.09739915876467,18.09739915876467,22.9741110867696,20.535755122767135,22.9741110867696,20.535755122767135,20.535755122767135,20.535755122767135,20.535755122767135,15.659043194762203,21.75493310476837,15.659043194762203,22.9741110867696,21.75493310476837,13.220687230759737,20.535755122767135,16.878221176763436,19.3165771407659,16.878221176763436,18.09739915876467,14.43986521276097,22.9741110867696,22.9741110867696,19.3165771407659,22.9741110867696,22.9741110867696,15.659043194762203,19.3165771407659,15.659043194762203,20.535755122767135,19.3165771407659,13.220687230759737,25.412467050772065,16.878221176763436,16.878221176763436,18.09739915876467,15.659043194762203,21.75493310476837,22.9741110867696,16.878221176763436,18.09739915876467,18.09739915876467,21.75493310476837,22.9741110867696,20.535755122767135,16.878221176763436,21.75493310476837,25.412467050772065,15.659043194762203,22.9741110867696,20.535755122767135,25.412467050772065,16.878221176763436,20.535755122767135,14.43986521276097,15.659043194762203,25.412467050772065,16.878221176763436,20.535755122767135,15.659043194762203,15.659043194762203,16.878221176763436,22.9741110867696,15.659043194762203,15.659043194762203,15.659043194762203,21.75493310476837,20.535755122767135,19.3165771407659,16.878221176763436,20.535755122767135,20.535755122767135,20.535755122767135,12.001509248758504,24.193289068770834,20.535755122767135,20.535755122767135,25.412467050772065,20.535755122767135,16.878221176763436,15.659043194762203,18.09739915876467,21.75493310476837,15.659043194762203,19.3165771407659,16.878221176763436,15.659043194762203,19.3165771407659,15.659043194762203,16.878221176763436,21.75493310476837,18.09739915876467,16.878221176763436,21.75493310476837,24.193289068770834,18.09739915876467,15.659043194762203,20.535755122767135,13.220687230759737,15.659043194762203,16.878221176763436,16.878221176763436,24.193289068770834,24.193289068770834,20.535755122767135,16.878221176763436,20.535755122767135,21.75493310476837,20.535755122767135,14.43986521276097,22.9741110867696,21.75493310476837,21.75493310476837,19.3165771407659,20.535755122767135,13.220687230759737,20.535755122767135,21.75493310476837,22.9741110867696,15.659043194762203,21.75493310476837,15.659043194762203,15.659043194762203,14.43986521276097,22.9741110867696,14.43986521276097,15.659043194762203,18.09739915876467,16.878221176763436,15.659043194762203,15.659043194762203,12.001509248758504,20.535755122767135,15.659043194762203,21.75493310476837,22.9741110867696,16.878221176763436,15.659043194762203,15.659043194762203,24.193289068770834,21.75493310476837,20.535755122767135,15.659043194762203,15.659043194762203,15.659043194762203,16.878221176763436,15.659043194762203,20.535755122767135,16.878221176763436,16.878221176763436,19.3165771407659,15.659043194762203,15.659043194762203,20.535755122767135,10.782331266757271,18.09739915876467,22.9741110867696,12.001509248758504,15.659043194762203,19.3165771407659,21.75493310476837,14.43986521276097,24.193289068770834,15.659043194762203,22.9741110867696,25.412467050772065,20.535755122767135,24.193289068770834,20.535755122767135,15.659043194762203,18.09739915876467,21.75493310476837,15.659043194762203,18.09739915876467,18.09739915876467,21.75493310476837,20.535755122767135,13.220687230759737,22.9741110867696,15.659043194762203,18.09739915876467,21.75493310476837,19.3165771407659,16.878221176763436,18.09739915876467,15.659043194762203,18.09739915876467,20.535755122767135,20.535755122767135,21.75493310476837,19.3165771407659,14.43986521276097,15.659043194762203,15.659043194762203,21.75493310476837,20.535755122767135,25.412467050772065,18.09739915876467,22.9741110867696,20.535755122767135,20.535755122767135,20.535755122767135,15.659043194762203,19.3165771407659,15.659043194762203,13.220687230759737,15.659043194762203,20.535755122767135,18.09739915876467,20.535755122767135,14.43986521276097,15.659043194762203,20.535755122767135,20.535755122767135,21.75493310476837,16.878221176763436,15.659043194762203,21.75493310476837,22.9741110867696,19.3165771407659,20.535755122767135,15.659043194762203,16.878221176763436,18.09739915876467,15.659043194762203,20.535755122767135,15.659043194762203,22.9741110867696,16.878221176763436,18.09739915876467,13.220687230759737,20.535755122767135,16.878221176763436,14.43986521276097,14.43986521276097,15.659043194762203,18.09739915876467,14.43986521276097,24.193289068770834,15.659043194762203,20.535755122767135,19.3165771407659,22.9741110867696,15.659043194762203,22.9741110867696,20.535755122767135,20.535755122767135,16.878221176763436,16.878221176763436,20.535755122767135,22.9741110867696,16.878221176763436,16.878221176763436,15.659043194762203,19.3165771407659,16.878221176763436,14.43986521276097,15.659043194762203,20.535755122767135,20.535755122767135,14.43986521276097,16.878221176763436,21.75493310476837,19.3165771407659,19.3165771407659,20.535755122767135,13.220687230759737,20.535755122767135,25.412467050772065,18.09739915876467,19.3165771407659,25.412467050772065,21.75493310476837,21.75493310476837,19.3165771407659,20.535755122767135,13.220687230759737,15.659043194762203,15.659043194762203,15.659043194762203,15.659043194762203,20.535755122767135,15.659043194762203,12.001509248758504,15.659043194762203,14.43986521276097,22.9741110867696,21.75493310476837,22.9741110867696,15.659043194762203,20.535755122767135,20.535755122767135,21.75493310476837,15.659043194762203,15.659043194762203,21.75493310476837,18.09739915876467,22.9741110867696,18.09739915876467,16.878221176763436,20.535755122767135,24.193289068770834,14.43986521276097,15.659043194762203,21.75493310476837,25.412467050772065,21.75493310476837,19.3165771407659,16.878221176763436,24.193289068770834,15.659043194762203,19.3165771407659,22.9741110867696,22.9741110867696,21.75493310476837,20.535755122767135,15.659043194762203,16.878221176763436,15.659043194762203,12.001509248758504,16.878221176763436,21.75493310476837,21.75493310476837,20.535755122767135,16.878221176763436,20.535755122767135,18.09739915876467,15.659043194762203,15.659043194762203,16.878221176763436,19.3165771407659,10.782331266757271,21.75493310476837,21.75493310476837,16.878221176763436,22.9741110867696,24.193289068770834,20.535755122767135,15.659043194762203,15.659043194762203,16.878221176763436,18.09739915876467,15.659043194762203,21.75493310476837,20.535755122767135,15.659043194762203,15.659043194762203,20.535755122767135,20.535755122767135,20.535755122767135,20.535755122767135,15.659043194762203,13.220687230759737,13.220687230759737,25.412467050772065,20.535755122767135,15.659043194762203,15.659043194762203,20.535755122767135,24.193289068770834,16.878221176763436,18.09739915876467,18.09739915876467,22.9741110867696,20.535755122767135,12.001509248758504,20.535755122767135,22.9741110867696,18.09739915876467,16.878221176763436,19.3165771407659,20.535755122767135,21.75493310476837,25.412467050772065,15.659043194762203,22.9741110867696,19.3165771407659,19.3165771407659,25.412467050772065,19.3165771407659,16.878221176763436,25.412467050772065,20.535755122767135,16.878221176763436,22.9741110867696,18.09739915876467,20.535755122767135,18.09739915876467,18.09739915876467,19.3165771407659,13.220687230759737,21.75493310476837,20.535755122767135,16.878221176763436,15.659043194762203,22.9741110867696,20.535755122767135,20.535755122767135,21.75493310476837,20.535755122767135,10.782331266757271,20.535755122767135,21.75493310476837,12.001509248758504,16.878221176763436,18.09739915876467,20.535755122767135,18.09739915876467,15.659043194762203,16.878221176763436,19.3165771407659,18.09739915876467,8.343975302754806,18.09739915876467,20.535755122767135,25.412467050772065,21.75493310476837,22.9741110867696,19.3165771407659,25.412467050772065,22.9741110867696,14.43986521276097,16.878221176763436,21.75493310476837,15.659043194762203,16.878221176763436,20.535755122767135,22.9741110867696,19.3165771407659,20.535755122767135,18.09739915876467,18.09739915876467,24.193289068770834,21.75493310476837,15.659043194762203,24.193289068770834,18.09739915876467,15.659043194762203,22.9741110867696,15.659043194762203,21.75493310476837,18.09739915876467,22.9741110867696,19.3165771407659,18.09739915876467,21.75493310476837,22.9741110867696,15.659043194762203,18.09739915876467,15.659043194762203,16.878221176763436,24.193289068770834,20.535755122767135,19.3165771407659,21.75493310476837,16.878221176763436,19.3165771407659,21.75493310476837,20.535755122767135,18.09739915876467,10.782331266757271,20.535755122767135,15.659043194762203,22.9741110867696,18.09739915876467,25.412467050772065,19.3165771407659,13.220687230759737,16.878221176763436,18.09739915876467,20.535755122767135,15.659043194762203,20.535755122767135,14.43986521276097,18.09739915876467,20.535755122767135,15.659043194762203,20.535755122767135,21.75493310476837,14.43986521276097,24.193289068770834,10.782331266757271,22.9741110867696,18.09739915876467,20.535755122767135,13.220687230759737,21.75493310476837,21.75493310476837,15.659043194762203,15.659043194762203,18.09739915876467,20.535755122767135,20.535755122767135,15.659043194762203,13.220687230759737,12.001509248758504,19.3165771407659,18.09739915876467,24.193289068770834,19.3165771407659,20.535755122767135,18.09739915876467,13.220687230759737,19.3165771407659,12.001509248758504,16.878221176763436,12.001509248758504,15.659043194762203,25.412467050772065,16.878221176763436,19.3165771407659,20.535755122767135,22.9741110867696,25.412467050772065,15.659043194762203,15.659043194762203,15.659043194762203,15.659043194762203,20.535755122767135,25.412467050772065,20.535755122767135,15.659043194762203,18.09739915876467,14.43986521276097,25.412467050772065,22.9741110867696,20.535755122767135,12.001509248758504,15.659043194762203,18.09739915876467,22.9741110867696,20.535755122767135,10.782331266757271,18.09739915876467,14.43986521276097,19.3165771407659,18.09739915876467,20.535755122767135,25.412467050772065,15.659043194762203,20.535755122767135,20.535755122767135,18.09739915876467,22.9741110867696,15.659043194762203,18.09739915876467,20.535755122767135,15.659043194762203,16.878221176763436,18.09739915876467,21.75493310476837,15.659043194762203,20.535755122767135,22.9741110867696,21.75493310476837,25.412467050772065,15.659043194762203,20.535755122767135,15.659043194762203,19.3165771407659,18.09739915876467,12.001509248758504,18.09739915876467,20.535755122767135,14.43986521276097,19.3165771407659,19.3165771407659,13.220687230759737,20.535755122767135,16.878221176763436,18.09739915876467,25.412467050772065,16.878221176763436,21.75493310476837,12.001509248758504,15.659043194762203,10.782331266757271,14.43986521276097,15.659043194762203,15.659043194762203,22.9741110867696,20.535755122767135,14.43986521276097,22.9741110867696,15.659043194762203,19.3165771407659,20.535755122767135,15.659043194762203,15.659043194762203,20.535755122767135,20.535755122767135,15.659043194762203,15.659043194762203,20.535755122767135,20.535755122767135,24.193289068770834,20.535755122767135,20.535755122767135,16.878221176763436,18.09739915876467,18.09739915876467,12.001509248758504,25.412467050772065,20.535755122767135,13.220687230759737,16.878221176763436,15.659043194762203,15.659043194762203,15.659043194762203,15.659043194762203,21.75493310476837,10.782331266757271,20.535755122767135,14.43986521276097,15.659043194762203,15.659043194762203,20.535755122767135,20.535755122767135,15.659043194762203,15.659043194762203,12.001509248758504,16.878221176763436,20.535755122767135,16.878221176763436,15.659043194762203,18.09739915876467,16.878221176763436,16.878221176763436,20.535755122767135,21.75493310476837,16.878221176763436,21.75493310476837,16.878221176763436,16.878221176763436,22.9741110867696,20.535755122767135,20.535755122767135,20.535755122767135,16.878221176763436,15.659043194762203,15.659043194762203,13.220687230759737,21.75493310476837,15.659043194762203,22.9741110867696,19.3165771407659,15.659043194762203,15.659043194762203,22.9741110867696,15.659043194762203,20.535755122767135,21.75493310476837,18.09739915876467,20.535755122767135,15.659043194762203,24.193289068770834,20.535755122767135,21.75493310476837,15.659043194762203,12.001509248758504,15.659043194762203,18.09739915876467,20.535755122767135,15.659043194762203,20.535755122767135,19.3165771407659,24.193289068770834,15.659043194762203,20.535755122767135,10.782331266757271,25.412467050772065,15.659043194762203,15.659043194762203,16.878221176763436,18.09739915876467,14.43986521276097,19.3165771407659,13.220687230759737,13.220687230759737,21.75493310476837,18.09739915876467,20.535755122767135,24.193289068770834,21.75493310476837,13.220687230759737,13.220687230759737,18.09739915876467,15.659043194762203,15.659043194762203,20.535755122767135,20.535755122767135,18.09739915876467,22.9741110867696,21.75493310476837,22.9741110867696,20.535755122767135,21.75493310476837,21.75493310476837,20.535755122767135,14.43986521276097,15.659043194762203,21.75493310476837,10.782331266757271,15.659043194762203,14.43986521276097,20.535755122767135,22.9741110867696,15.659043194762203,20.535755122767135,21.75493310476837,20.535755122767135,20.535755122767135,21.75493310476837,21.75493310476837,12.001509248758504,20.535755122767135,18.09739915876467,16.878221176763436,20.535755122767135,21.75493310476837,16.878221176763436,19.3165771407659,20.535755122767135,18.09739915876467,15.659043194762203,20.535755122767135,16.878221176763436,21.75493310476837,15.659043194762203,20.535755122767135,24.193289068770834,22.9741110867696,15.659043194762203,20.535755122767135,18.09739915876467,22.9741110867696,15.659043194762203,19.3165771407659,15.659043194762203,20.535755122767135,18.09739915876467,22.9741110867696,24.193289068770834,18.09739915876467,16.878221176763436,16.878221176763436,20.535755122767135,15.659043194762203,15.659043194762203,25.412467050772065,19.3165771407659,16.878221176763436,20.535755122767135,15.659043194762203,22.9741110867696,16.878221176763436,15.659043194762203,21.75493310476837,19.3165771407659,22.9741110867696,20.535755122767135,18.09739915876467,15.659043194762203,21.75493310476837,24.193289068770834,20.535755122767135,24.193289068770834,20.535755122767135,18.09739915876467,10.782331266757271,15.659043194762203,18.09739915876467,18.09739915876467,15.659043194762203,15.659043194762203,18.09739915876467,15.659043194762203,21.75493310476837,24.193289068770834,25.412467050772065,20.535755122767135,16.878221176763436,15.659043194762203,21.75493310476837,15.659043194762203,13.220687230759737,16.878221176763436,15.659043194762203,18.09739915876467,14.43986521276097,21.75493310476837,14.43986521276097,15.659043194762203,15.659043194762203,18.09739915876467,22.9741110867696,16.878221176763436,20.535755122767135,15.659043194762203,22.9741110867696,21.75493310476837,21.75493310476837,18.09739915876467,15.659043194762203,21.75493310476837,15.659043194762203,18.09739915876467,21.75493310476837,15.659043194762203,16.878221176763436,15.659043194762203,20.535755122767135,18.09739915876467,16.878221176763436,16.878221176763436,15.659043194762203,10.782331266757271,25.412467050772065,19.3165771407659,16.878221176763436,20.535755122767135,15.659043194762203,20.535755122767135,15.659043194762203,19.3165771407659,20.535755122767135,21.75493310476837,16.878221176763436,18.09739915876467,18.09739915876467,20.535755122767135,22.9741110867696,19.3165771407659,10.782331266757271,21.75493310476837,20.535755122767135,20.535755122767135,24.193289068770834,15.659043194762203,18.09739915876467,14.43986521276097,22.9741110867696,20.535755122767135,15.659043194762203,21.75493310476837,21.75493310476837,20.535755122767135,16.878221176763436,25.412467050772065,18.09739915876467,13.220687230759737,21.75493310476837,20.535755122767135,15.659043194762203,12.001509248758504,18.09739915876467,15.659043194762203,20.535755122767135,15.659043194762203,15.659043194762203,15.659043194762203,21.75493310476837,18.09739915876467,13.220687230759737,20.535755122767135,25.412467050772065,20.535755122767135,22.9741110867696,18.09739915876467,15.659043194762203,21.75493310476837,20.535755122767135,22.9741110867696,22.9741110867696,24.193289068770834,13.220687230759737,14.43986521276097,16.878221176763436,24.193289068770834,18.09739915876467,20.535755122767135,15.659043194762203,14.43986521276097,20.535755122767135,22.9741110867696,24.193289068770834,20.535755122767135,25.412467050772065,18.09739915876467,21.75493310476837,16.878221176763436,20.535755122767135,25.412467050772065,18.09739915876467,16.878221176763436,12.001509248758504,18.09739915876467,24.193289068770834,20.535755122767135,20.535755122767135,15.659043194762203,15.659043194762203,21.75493310476837,15.659043194762203,20.535755122767135,22.9741110867696,22.9741110867696,20.535755122767135,22.9741110867696,18.09739915876467,14.43986521276097,21.75493310476837,19.3165771407659,16.878221176763436,22.9741110867696,25.412467050772065,18.09739915876467,15.659043194762203,15.659043194762203,21.75493310476837,20.535755122767135,21.75493310476837,14.43986521276097,15.659043194762203,16.878221176763436,20.535755122767135,16.878221176763436,20.535755122767135,25.412467050772065,15.659043194762203,25.412467050772065,20.535755122767135,12.001509248758504,15.659043194762203,20.535755122767135,22.9741110867696,20.535755122767135,19.3165771407659,21.75493310476837,15.659043194762203,21.75493310476837,19.3165771407659,13.220687230759737,18.09739915876467,16.878221176763436,25.412467050772065,21.75493310476837,19.3165771407659,25.412467050772065,24.193289068770834,25.412467050772065,18.09739915876467,20.535755122767135,25.412467050772065,15.659043194762203,12.001509248758504,13.220687230759737,24.193289068770834,15.659043194762203,15.659043194762203,15.659043194762203,20.535755122767135,10.782331266757271,14.43986521276097,22.9741110867696,18.09739915876467,20.535755122767135,21.75493310476837,20.535755122767135,14.43986521276097,18.09739915876467,16.878221176763436,15.659043194762203,25.412467050772065,20.535755122767135,25.412467050772065,13.220687230759737,15.659043194762203,15.659043194762203,20.535755122767135,16.878221176763436,15.659043194762203,21.75493310476837,13.220687230759737,18.09739915876467,18.09739915876467,16.878221176763436,21.75493310476837,18.09739915876467,21.75493310476837,16.878221176763436,15.659043194762203,19.3165771407659,21.75493310476837,22.9741110867696,15.659043194762203,18.09739915876467,15.659043194762203,20.535755122767135,13.220687230759737,20.535755122767135,15.659043194762203,16.878221176763436,20.535755122767135,19.3165771407659,15.659043194762203,18.09739915876467,15.659043194762203,15.659043194762203,15.659043194762203,18.09739915876467,20.535755122767135,20.535755122767135,24.193289068770834,20.535755122767135,19.3165771407659,15.659043194762203,20.535755122767135,20.535755122767135,21.75493310476837,15.659043194762203,14.43986521276097,15.659043194762203,20.535755122767135,10.782331266757271,15.659043194762203,25.412467050772065,14.43986521276097,20.535755122767135,20.535755122767135,22.9741110867696,15.659043194762203,21.75493310476837,20.535755122767135,21.75493310476837,22.9741110867696,13.220687230759737,18.09739915876467,21.75493310476837,21.75493310476837,22.9741110867696,25.412467050772065,25.412467050772065,19.3165771407659,22.9741110867696,12.001509248758504,21.75493310476837,21.75493310476837,18.09739915876467,19.3165771407659,16.878221176763436,12.001509248758504,15.659043194762203,16.878221176763436,19.3165771407659,21.75493310476837,18.09739915876467,15.659043194762203,12.001509248758504,15.659043194762203,21.75493310476837,20.535755122767135,18.09739915876467,13.220687230759737,15.659043194762203,15.659043194762203,18.09739915876467,21.75493310476837,16.878221176763436,18.09739915876467,15.659043194762203,21.75493310476837,25.412467050772065,20.535755122767135,18.09739915876467,19.3165771407659,22.9741110867696,16.878221176763436,22.9741110867696,15.659043194762203,14.43986521276097,25.412467050772065,21.75493310476837,21.75493310476837,18.09739915876467,16.878221176763436,15.659043194762203,15.659043194762203,16.878221176763436,20.535755122767135,21.75493310476837,20.535755122767135,20.535755122767135,25.412467050772065,19.3165771407659,15.659043194762203,20.535755122767135,20.535755122767135,18.09739915876467,22.9741110867696,20.535755122767135,12.001509248758504,18.09739915876467,20.535755122767135,22.9741110867696,21.75493310476837,25.412467050772065,22.9741110867696,16.878221176763436,20.535755122767135,22.9741110867696,13.220687230759737,20.535755122767135,22.9741110867696,20.535755122767135,20.535755122767135,20.535755122767135,15.659043194762203,20.535755122767135,22.9741110867696,20.535755122767135,18.09739915876467,16.878221176763436,22.9741110867696,19.3165771407659,15.659043194762203,15.659043194762203,15.659043194762203,20.535755122767135,16.878221176763436,20.535755122767135,10.782331266757271,15.659043194762203,15.659043194762203,18.09739915876467,19.3165771407659,15.659043194762203,15.659043194762203,18.09739915876467,15.659043194762203,24.193289068770834,20.535755122767135,20.535755122767135,21.75493310476837,16.878221176763436,14.43986521276097,10.782331266757271,22.9741110867696,20.535755122767135,20.535755122767135,13.220687230759737,12.001509248758504,15.659043194762203,15.659043194762203,21.75493310476837,12.001509248758504,18.09739915876467,20.535755122767135,20.535755122767135],\"yaxis\":\"y\",\"type\":\"scattergl\"}],                        {\"template\":{\"data\":{\"histogram2dcontour\":[{\"type\":\"histogram2dcontour\",\"colorbar\":{\"outlinewidth\":0,\"ticks\":\"\"},\"colorscale\":[[0.0,\"#0d0887\"],[0.1111111111111111,\"#46039f\"],[0.2222222222222222,\"#7201a8\"],[0.3333333333333333,\"#9c179e\"],[0.4444444444444444,\"#bd3786\"],[0.5555555555555556,\"#d8576b\"],[0.6666666666666666,\"#ed7953\"],[0.7777777777777778,\"#fb9f3a\"],[0.8888888888888888,\"#fdca26\"],[1.0,\"#f0f921\"]]}],\"choropleth\":[{\"type\":\"choropleth\",\"colorbar\":{\"outlinewidth\":0,\"ticks\":\"\"}}],\"histogram2d\":[{\"type\":\"histogram2d\",\"colorbar\":{\"outlinewidth\":0,\"ticks\":\"\"},\"colorscale\":[[0.0,\"#0d0887\"],[0.1111111111111111,\"#46039f\"],[0.2222222222222222,\"#7201a8\"],[0.3333333333333333,\"#9c179e\"],[0.4444444444444444,\"#bd3786\"],[0.5555555555555556,\"#d8576b\"],[0.6666666666666666,\"#ed7953\"],[0.7777777777777778,\"#fb9f3a\"],[0.8888888888888888,\"#fdca26\"],[1.0,\"#f0f921\"]]}],\"heatmap\":[{\"type\":\"heatmap\",\"colorbar\":{\"outlinewidth\":0,\"ticks\":\"\"},\"colorscale\":[[0.0,\"#0d0887\"],[0.1111111111111111,\"#46039f\"],[0.2222222222222222,\"#7201a8\"],[0.3333333333333333,\"#9c179e\"],[0.4444444444444444,\"#bd3786\"],[0.5555555555555556,\"#d8576b\"],[0.6666666666666666,\"#ed7953\"],[0.7777777777777778,\"#fb9f3a\"],[0.8888888888888888,\"#fdca26\"],[1.0,\"#f0f921\"]]}],\"heatmapgl\":[{\"type\":\"heatmapgl\",\"colorbar\":{\"outlinewidth\":0,\"ticks\":\"\"},\"colorscale\":[[0.0,\"#0d0887\"],[0.1111111111111111,\"#46039f\"],[0.2222222222222222,\"#7201a8\"],[0.3333333333333333,\"#9c179e\"],[0.4444444444444444,\"#bd3786\"],[0.5555555555555556,\"#d8576b\"],[0.6666666666666666,\"#ed7953\"],[0.7777777777777778,\"#fb9f3a\"],[0.8888888888888888,\"#fdca26\"],[1.0,\"#f0f921\"]]}],\"contourcarpet\":[{\"type\":\"contourcarpet\",\"colorbar\":{\"outlinewidth\":0,\"ticks\":\"\"}}],\"contour\":[{\"type\":\"contour\",\"colorbar\":{\"outlinewidth\":0,\"ticks\":\"\"},\"colorscale\":[[0.0,\"#0d0887\"],[0.1111111111111111,\"#46039f\"],[0.2222222222222222,\"#7201a8\"],[0.3333333333333333,\"#9c179e\"],[0.4444444444444444,\"#bd3786\"],[0.5555555555555556,\"#d8576b\"],[0.6666666666666666,\"#ed7953\"],[0.7777777777777778,\"#fb9f3a\"],[0.8888888888888888,\"#fdca26\"],[1.0,\"#f0f921\"]]}],\"surface\":[{\"type\":\"surface\",\"colorbar\":{\"outlinewidth\":0,\"ticks\":\"\"},\"colorscale\":[[0.0,\"#0d0887\"],[0.1111111111111111,\"#46039f\"],[0.2222222222222222,\"#7201a8\"],[0.3333333333333333,\"#9c179e\"],[0.4444444444444444,\"#bd3786\"],[0.5555555555555556,\"#d8576b\"],[0.6666666666666666,\"#ed7953\"],[0.7777777777777778,\"#fb9f3a\"],[0.8888888888888888,\"#fdca26\"],[1.0,\"#f0f921\"]]}],\"mesh3d\":[{\"type\":\"mesh3d\",\"colorbar\":{\"outlinewidth\":0,\"ticks\":\"\"}}],\"scatter\":[{\"fillpattern\":{\"fillmode\":\"overlay\",\"size\":10,\"solidity\":0.2},\"type\":\"scatter\"}],\"parcoords\":[{\"type\":\"parcoords\",\"line\":{\"colorbar\":{\"outlinewidth\":0,\"ticks\":\"\"}}}],\"scatterpolargl\":[{\"type\":\"scatterpolargl\",\"marker\":{\"colorbar\":{\"outlinewidth\":0,\"ticks\":\"\"}}}],\"bar\":[{\"error_x\":{\"color\":\"#2a3f5f\"},\"error_y\":{\"color\":\"#2a3f5f\"},\"marker\":{\"line\":{\"color\":\"#E5ECF6\",\"width\":0.5},\"pattern\":{\"fillmode\":\"overlay\",\"size\":10,\"solidity\":0.2}},\"type\":\"bar\"}],\"scattergeo\":[{\"type\":\"scattergeo\",\"marker\":{\"colorbar\":{\"outlinewidth\":0,\"ticks\":\"\"}}}],\"scatterpolar\":[{\"type\":\"scatterpolar\",\"marker\":{\"colorbar\":{\"outlinewidth\":0,\"ticks\":\"\"}}}],\"histogram\":[{\"marker\":{\"pattern\":{\"fillmode\":\"overlay\",\"size\":10,\"solidity\":0.2}},\"type\":\"histogram\"}],\"scattergl\":[{\"type\":\"scattergl\",\"marker\":{\"colorbar\":{\"outlinewidth\":0,\"ticks\":\"\"}}}],\"scatter3d\":[{\"type\":\"scatter3d\",\"line\":{\"colorbar\":{\"outlinewidth\":0,\"ticks\":\"\"}},\"marker\":{\"colorbar\":{\"outlinewidth\":0,\"ticks\":\"\"}}}],\"scattermapbox\":[{\"type\":\"scattermapbox\",\"marker\":{\"colorbar\":{\"outlinewidth\":0,\"ticks\":\"\"}}}],\"scatterternary\":[{\"type\":\"scatterternary\",\"marker\":{\"colorbar\":{\"outlinewidth\":0,\"ticks\":\"\"}}}],\"scattercarpet\":[{\"type\":\"scattercarpet\",\"marker\":{\"colorbar\":{\"outlinewidth\":0,\"ticks\":\"\"}}}],\"carpet\":[{\"aaxis\":{\"endlinecolor\":\"#2a3f5f\",\"gridcolor\":\"white\",\"linecolor\":\"white\",\"minorgridcolor\":\"white\",\"startlinecolor\":\"#2a3f5f\"},\"baxis\":{\"endlinecolor\":\"#2a3f5f\",\"gridcolor\":\"white\",\"linecolor\":\"white\",\"minorgridcolor\":\"white\",\"startlinecolor\":\"#2a3f5f\"},\"type\":\"carpet\"}],\"table\":[{\"cells\":{\"fill\":{\"color\":\"#EBF0F8\"},\"line\":{\"color\":\"white\"}},\"header\":{\"fill\":{\"color\":\"#C8D4E3\"},\"line\":{\"color\":\"white\"}},\"type\":\"table\"}],\"barpolar\":[{\"marker\":{\"line\":{\"color\":\"#E5ECF6\",\"width\":0.5},\"pattern\":{\"fillmode\":\"overlay\",\"size\":10,\"solidity\":0.2}},\"type\":\"barpolar\"}],\"pie\":[{\"automargin\":true,\"type\":\"pie\"}]},\"layout\":{\"autotypenumbers\":\"strict\",\"colorway\":[\"#636efa\",\"#EF553B\",\"#00cc96\",\"#ab63fa\",\"#FFA15A\",\"#19d3f3\",\"#FF6692\",\"#B6E880\",\"#FF97FF\",\"#FECB52\"],\"font\":{\"color\":\"#2a3f5f\"},\"hovermode\":\"closest\",\"hoverlabel\":{\"align\":\"left\"},\"paper_bgcolor\":\"white\",\"plot_bgcolor\":\"#E5ECF6\",\"polar\":{\"bgcolor\":\"#E5ECF6\",\"angularaxis\":{\"gridcolor\":\"white\",\"linecolor\":\"white\",\"ticks\":\"\"},\"radialaxis\":{\"gridcolor\":\"white\",\"linecolor\":\"white\",\"ticks\":\"\"}},\"ternary\":{\"bgcolor\":\"#E5ECF6\",\"aaxis\":{\"gridcolor\":\"white\",\"linecolor\":\"white\",\"ticks\":\"\"},\"baxis\":{\"gridcolor\":\"white\",\"linecolor\":\"white\",\"ticks\":\"\"},\"caxis\":{\"gridcolor\":\"white\",\"linecolor\":\"white\",\"ticks\":\"\"}},\"coloraxis\":{\"colorbar\":{\"outlinewidth\":0,\"ticks\":\"\"}},\"colorscale\":{\"sequential\":[[0.0,\"#0d0887\"],[0.1111111111111111,\"#46039f\"],[0.2222222222222222,\"#7201a8\"],[0.3333333333333333,\"#9c179e\"],[0.4444444444444444,\"#bd3786\"],[0.5555555555555556,\"#d8576b\"],[0.6666666666666666,\"#ed7953\"],[0.7777777777777778,\"#fb9f3a\"],[0.8888888888888888,\"#fdca26\"],[1.0,\"#f0f921\"]],\"sequentialminus\":[[0.0,\"#0d0887\"],[0.1111111111111111,\"#46039f\"],[0.2222222222222222,\"#7201a8\"],[0.3333333333333333,\"#9c179e\"],[0.4444444444444444,\"#bd3786\"],[0.5555555555555556,\"#d8576b\"],[0.6666666666666666,\"#ed7953\"],[0.7777777777777778,\"#fb9f3a\"],[0.8888888888888888,\"#fdca26\"],[1.0,\"#f0f921\"]],\"diverging\":[[0,\"#8e0152\"],[0.1,\"#c51b7d\"],[0.2,\"#de77ae\"],[0.3,\"#f1b6da\"],[0.4,\"#fde0ef\"],[0.5,\"#f7f7f7\"],[0.6,\"#e6f5d0\"],[0.7,\"#b8e186\"],[0.8,\"#7fbc41\"],[0.9,\"#4d9221\"],[1,\"#276419\"]]},\"xaxis\":{\"gridcolor\":\"white\",\"linecolor\":\"white\",\"ticks\":\"\",\"title\":{\"standoff\":15},\"zerolinecolor\":\"white\",\"automargin\":true,\"zerolinewidth\":2},\"yaxis\":{\"gridcolor\":\"white\",\"linecolor\":\"white\",\"ticks\":\"\",\"title\":{\"standoff\":15},\"zerolinecolor\":\"white\",\"automargin\":true,\"zerolinewidth\":2},\"scene\":{\"xaxis\":{\"backgroundcolor\":\"#E5ECF6\",\"gridcolor\":\"white\",\"linecolor\":\"white\",\"showbackground\":true,\"ticks\":\"\",\"zerolinecolor\":\"white\",\"gridwidth\":2},\"yaxis\":{\"backgroundcolor\":\"#E5ECF6\",\"gridcolor\":\"white\",\"linecolor\":\"white\",\"showbackground\":true,\"ticks\":\"\",\"zerolinecolor\":\"white\",\"gridwidth\":2},\"zaxis\":{\"backgroundcolor\":\"#E5ECF6\",\"gridcolor\":\"white\",\"linecolor\":\"white\",\"showbackground\":true,\"ticks\":\"\",\"zerolinecolor\":\"white\",\"gridwidth\":2}},\"shapedefaults\":{\"line\":{\"color\":\"#2a3f5f\"}},\"annotationdefaults\":{\"arrowcolor\":\"#2a3f5f\",\"arrowhead\":0,\"arrowwidth\":1},\"geo\":{\"bgcolor\":\"white\",\"landcolor\":\"#E5ECF6\",\"subunitcolor\":\"white\",\"showland\":true,\"showlakes\":true,\"lakecolor\":\"white\"},\"title\":{\"x\":0.05},\"mapbox\":{\"style\":\"light\"}}},\"xaxis\":{\"anchor\":\"y\",\"domain\":[0.0,1.0],\"title\":{\"text\":\"True value\"}},\"yaxis\":{\"anchor\":\"x\",\"domain\":[0.0,1.0],\"title\":{\"text\":\"Predicted value\"}},\"legend\":{\"tracegroupgap\":0},\"margin\":{\"t\":60},\"title\":{\"text\":\"Predicted vs true earnings\"}},                        {\"responsive\": true}                    ).then(function(){\n",
              "                            \n",
              "var gd = document.getElementById('d7311d27-c364-4eaf-a8d2-5fb4eb0e5f6b');\n",
              "var x = new MutationObserver(function (mutations, observer) {{\n",
              "        var display = window.getComputedStyle(gd).display;\n",
              "        if (!display || display === 'none') {{\n",
              "            console.log([gd, 'removed!']);\n",
              "            Plotly.purge(gd);\n",
              "            observer.disconnect();\n",
              "        }}\n",
              "}});\n",
              "\n",
              "// Listen for the removal of the full notebook cells\n",
              "var notebookContainer = gd.closest('#notebook-container');\n",
              "if (notebookContainer) {{\n",
              "    x.observe(notebookContainer, {childList: true});\n",
              "}}\n",
              "\n",
              "// Listen for the clearing of the current output cell\n",
              "var outputEl = gd.closest('.output');\n",
              "if (outputEl) {{\n",
              "    x.observe(outputEl, {childList: true});\n",
              "}}\n",
              "\n",
              "                        })                };                            </script>        </div>\n",
              "</body>\n",
              "</html>"
            ]
          },
          "metadata": {}
        }
      ]
    },
    {
      "cell_type": "code",
      "metadata": {
        "id": "6DfAEUWNosHd",
        "colab": {
          "base_uri": "https://localhost:8080/",
          "height": 594
        },
        "outputId": "d87cb60c-f149-40db-e765-71bad856c0b0"
      },
      "source": [
        "plt.figure(figsize=(6, 4), dpi=150)\n",
        "axes = plt.axes()\n",
        "axes.scatter(x=df_compare.true_values, y=df_compare.predicted, alpha=0.5, color=\"purple\")\n",
        "plt.plot(df_compare.true_values, df_compare.true_values, color=\"skyblue\")\n",
        "plt.title(\"Actual vs Predicted Earnings\")\n",
        "plt.xlabel(\"True value\")\n",
        "plt.ylabel(\"Predicted Value\")\n",
        "plt.show()"
      ],
      "execution_count": null,
      "outputs": [
        {
          "output_type": "display_data",
          "data": {
            "text/plain": [
              "<Figure size 900x600 with 1 Axes>"
            ],
            "image/png": "[encoded data removed]"
          },
          "metadata": {
            "needs_background": "light"
          }
        }
      ]
    },
    {
      "cell_type": "code",
      "source": [
        "plt.figure(figsize=(6, 4), dpi=150)\n",
        "axes = plt.axes()\n",
        "axes.scatter(x=df_compare.true_values, y=df_compare.residuals, alpha=0.5, color=\"purple\")\n",
        "plt.title(\"Actual earnings vs residuals\")\n",
        "plt.xlabel(\"True value\")\n",
        "plt.ylabel(\"Residual\")\n",
        "plt.show()"
      ],
      "metadata": {
        "colab": {
          "base_uri": "https://localhost:8080/",
          "height": 594
        },
        "id": "CV3MQwW9Gpj0",
        "outputId": "5efdd5c4-e2c1-4a28-b55f-f7f45173e70b"
      },
      "execution_count": null,
      "outputs": [
        {
          "output_type": "display_data",
          "data": {
            "text/plain": [
              "<Figure size 900x600 with 1 Axes>"
            ],
            "image/png": "[encoded data removed]"
          },
          "metadata": {
            "needs_background": "light"
          }
        }
      ]
    },
    {
      "cell_type": "code",
      "source": [
        "df_compare[\"residuals\"].shape"
      ],
      "metadata": {
        "colab": {
          "base_uri": "https://localhost:8080/"
        },
        "id": "THUGThPtJ4eI",
        "outputId": "328135ba-1dbb-470e-b3f3-45aae470cc71"
      },
      "execution_count": null,
      "outputs": [
        {
          "output_type": "execute_result",
          "data": {
            "text/plain": [
              "(1189,)"
            ]
          },
          "metadata": {},
          "execution_count": 28
        }
      ]
    },
    {
      "cell_type": "code",
      "source": [
        "df_compare[\"residuals\"].mean()"
      ],
      "metadata": {
        "colab": {
          "base_uri": "https://localhost:8080/"
        },
        "id": "aRMJBfqMKz3A",
        "outputId": "4dcc2c22-99e2-4fc0-ad11-e1eeab7dc848"
      },
      "execution_count": null,
      "outputs": [
        {
          "output_type": "execute_result",
          "data": {
            "text/plain": [
              "1.6613194326434639e-15"
            ]
          },
          "metadata": {},
          "execution_count": 29
        }
      ]
    },
    {
      "cell_type": "code",
      "source": [
        "df_compare[\"residuals\"].skew()"
      ],
      "metadata": {
        "colab": {
          "base_uri": "https://localhost:8080/"
        },
        "id": "F7DtSGEUK3do",
        "outputId": "ae12c8fb-2cff-4981-e2d2-f47c466469fa"
      },
      "execution_count": null,
      "outputs": [
        {
          "output_type": "execute_result",
          "data": {
            "text/plain": [
              "2.9961668710020586"
            ]
          },
          "metadata": {},
          "execution_count": 30
        }
      ]
    },
    {
      "cell_type": "code",
      "source": [
        "# plot a histogram of the residuals superimposed with KDE\n",
        "plt.figure(figsize=(5, 4), dpi=300)\n",
        "with sns.axes_style(\"darkgrid\"):\n",
        "  sns.displot(df_compare, x=\"residuals\", kde=True, aspect=2, bins=60)\n",
        "plt.title(\"Distribution of Residuals\", fontsize=14)\n",
        "plt.xlabel(\"Residual\")\n",
        "plt.show()"
      ],
      "metadata": {
        "colab": {
          "base_uri": "https://localhost:8080/",
          "height": 403
        },
        "id": "BlP9iR1hK6x3",
        "outputId": "f48ee4f0-7d6f-477d-90c9-04f88c15d94e"
      },
      "execution_count": null,
      "outputs": [
        {
          "output_type": "display_data",
          "data": {
            "text/plain": [
              "<Figure size 1500x1200 with 0 Axes>"
            ]
          },
          "metadata": {}
        },
        {
          "output_type": "display_data",
          "data": {
            "text/plain": [
              "<Figure size 720x360 with 1 Axes>"
            ],
            "image/png": "[encoded data removed]"
          },
          "metadata": {}
        }
      ]
    },
    {
      "cell_type": "markdown",
      "metadata": {
        "id": "zNBuJ1iBnvpl"
      },
      "source": [
        "# Multivariable Regression\n",
        "\n",
        "Now use both years of schooling and the years work experience to predict earnings. How high is the r-squared for the regression on the training data? "
      ]
    },
    {
      "cell_type": "code",
      "metadata": {
        "id": "Ihq-C4looCSM"
      },
      "source": [
        "schooling_work = pd.DataFrame(X_train[[\"S\", \"EXP\"]])"
      ],
      "execution_count": null,
      "outputs": []
    },
    {
      "cell_type": "code",
      "metadata": {
        "id": "dRhB7Iwboyfq",
        "colab": {
          "base_uri": "https://localhost:8080/"
        },
        "outputId": "9ebe957b-eab1-4b0c-f7ed-2616a27cb3ff"
      },
      "source": [
        "schooling_work.dtypes"
      ],
      "execution_count": null,
      "outputs": [
        {
          "output_type": "execute_result",
          "data": {
            "text/plain": [
              "S        int64\n",
              "EXP    float64\n",
              "dtype: object"
            ]
          },
          "metadata": {},
          "execution_count": 33
        }
      ]
    },
    {
      "cell_type": "code",
      "source": [
        "multivariable_regression = LinearRegression()"
      ],
      "metadata": {
        "id": "S5qzLPYAgQKs"
      },
      "execution_count": null,
      "outputs": []
    },
    {
      "cell_type": "code",
      "source": [
        "multivariable_regression.fit(schooling_work, y_train)"
      ],
      "metadata": {
        "colab": {
          "base_uri": "https://localhost:8080/"
        },
        "id": "0jLTyipVeySk",
        "outputId": "3f03100f-1f08-4e98-e9f6-79dc0c71582a"
      },
      "execution_count": null,
      "outputs": [
        {
          "output_type": "execute_result",
          "data": {
            "text/plain": [
              "LinearRegression()"
            ]
          },
          "metadata": {},
          "execution_count": 35
        }
      ]
    },
    {
      "cell_type": "code",
      "source": [
        "print(f\"The r-squared of this multivariable regression is {multivariable_regression.score(schooling_work, y_train): .3}.\")"
      ],
      "metadata": {
        "colab": {
          "base_uri": "https://localhost:8080/"
        },
        "id": "K7FgtfX1g_rf",
        "outputId": "075ac550-f4df-4a35-96ec-dece28c6d18b"
      },
      "execution_count": null,
      "outputs": [
        {
          "output_type": "stream",
          "name": "stdout",
          "text": [
            "The r-squared of this multivariable regression is  0.117.\n"
          ]
        }
      ]
    },
    {
      "cell_type": "markdown",
      "metadata": {
        "id": "nHDtunM0oyuk"
      },
      "source": [
        "### Evaluate the Coefficients of the Model"
      ]
    },
    {
      "cell_type": "code",
      "metadata": {
        "id": "5vasqInIoydB",
        "colab": {
          "base_uri": "https://localhost:8080/"
        },
        "outputId": "6a7dc2d3-fa00-4bf1-97a8-027f3defd2af"
      },
      "source": [
        "multivariable_regression.coef_"
      ],
      "execution_count": null,
      "outputs": [
        {
          "output_type": "execute_result",
          "data": {
            "text/plain": [
              "array([[1.79422175, 0.97900689]])"
            ]
          },
          "metadata": {},
          "execution_count": 37
        }
      ]
    },
    {
      "cell_type": "code",
      "source": [
        "multivariable_coefficients = pd.DataFrame()\n",
        "multivariable_coefficients[\"name\"] = schooling_work.columns\n",
        "multivariable_coefficients[\"value\"] = multivariable_regression.coef_[0]\n",
        "multivariable_coefficients"
      ],
      "metadata": {
        "colab": {
          "base_uri": "https://localhost:8080/",
          "height": 112
        },
        "id": "uO8RriHFiqUr",
        "outputId": "f3d7d6db-a0b9-4ef9-b350-013f021e0b6b"
      },
      "execution_count": null,
      "outputs": [
        {
          "output_type": "execute_result",
          "data": {
            "text/plain": [
              "  name  value\n",
              "0    S   1.79\n",
              "1  EXP   0.98"
            ],
            "text/html": [
              "\n",
              "  <div id=\"df-b2fa08ae-54ec-4bd0-9caf-ee7261043c91\">\n",
              "    <div class=\"colab-df-container\">\n",
              "      <div>\n",
              "<style scoped>\n",
              "    .dataframe tbody tr th:only-of-type {\n",
              "        vertical-align: middle;\n",
              "    }\n",
              "\n",
              "    .dataframe tbody tr th {\n",
              "        vertical-align: top;\n",
              "    }\n",
              "\n",
              "    .dataframe thead th {\n",
              "        text-align: right;\n",
              "    }\n",
              "</style>\n",
              "<table border=\"1\" class=\"dataframe\">\n",
              "  <thead>\n",
              "    <tr style=\"text-align: right;\">\n",
              "      <th></th>\n",
              "      <th>name</th>\n",
              "      <th>value</th>\n",
              "    </tr>\n",
              "  </thead>\n",
              "  <tbody>\n",
              "    <tr>\n",
              "      <th>0</th>\n",
              "      <td>S</td>\n",
              "      <td>1.79</td>\n",
              "    </tr>\n",
              "    <tr>\n",
              "      <th>1</th>\n",
              "      <td>EXP</td>\n",
              "      <td>0.98</td>\n",
              "    </tr>\n",
              "  </tbody>\n",
              "</table>\n",
              "</div>\n",
              "      <button class=\"colab-df-convert\" onclick=\"convertToInteractive('df-b2fa08ae-54ec-4bd0-9caf-ee7261043c91')\"\n",
              "              title=\"Convert this dataframe to an interactive table.\"\n",
              "              style=\"display:none;\">\n",
              "        \n",
              "  <svg xmlns=\"http://www.w3.org/2000/svg\" height=\"24px\"viewBox=\"0 0 24 24\"\n",
              "       width=\"24px\">\n",
              "    <path d=\"M0 0h24v24H0V0z\" fill=\"none\"/>\n",
              "    <path d=\"M18.56 5.44l.94 2.06.94-2.06 2.06-.94-2.06-.94-.94-2.06-.94 2.06-2.06.94zm-11 1L8.5 8.5l.94-2.06 2.06-.94-2.06-.94L8.5 2.5l-.94 2.06-2.06.94zm10 10l.94 2.06.94-2.06 2.06-.94-2.06-.94-.94-2.06-.94 2.06-2.06.94z\"/><path d=\"M17.41 7.96l-1.37-1.37c-.4-.4-.92-.59-1.43-.59-.52 0-1.04.2-1.43.59L10.3 9.45l-7.72 7.72c-.78.78-.78 2.05 0 2.83L4 21.41c.39.39.9.59 1.41.59.51 0 1.02-.2 1.41-.59l7.78-7.78 2.81-2.81c.8-.78.8-2.07 0-2.86zM5.41 20L4 18.59l7.72-7.72 1.47 1.35L5.41 20z\"/>\n",
              "  </svg>\n",
              "      </button>\n",
              "      \n",
              "  <style>\n",
              "    .colab-df-container {\n",
              "      display:flex;\n",
              "      flex-wrap:wrap;\n",
              "      gap: 12px;\n",
              "    }\n",
              "\n",
              "    .colab-df-convert {\n",
              "      background-color: #E8F0FE;\n",
              "      border: none;\n",
              "      border-radius: 50%;\n",
              "      cursor: pointer;\n",
              "      display: none;\n",
              "      fill: #1967D2;\n",
              "      height: 32px;\n",
              "      padding: 0 0 0 0;\n",
              "      width: 32px;\n",
              "    }\n",
              "\n",
              "    .colab-df-convert:hover {\n",
              "      background-color: #E2EBFA;\n",
              "      box-shadow: 0px 1px 2px rgba(60, 64, 67, 0.3), 0px 1px 3px 1px rgba(60, 64, 67, 0.15);\n",
              "      fill: #174EA6;\n",
              "    }\n",
              "\n",
              "    [theme=dark] .colab-df-convert {\n",
              "      background-color: #3B4455;\n",
              "      fill: #D2E3FC;\n",
              "    }\n",
              "\n",
              "    [theme=dark] .colab-df-convert:hover {\n",
              "      background-color: #434B5C;\n",
              "      box-shadow: 0px 1px 3px 1px rgba(0, 0, 0, 0.15);\n",
              "      filter: drop-shadow(0px 1px 2px rgba(0, 0, 0, 0.3));\n",
              "      fill: #FFFFFF;\n",
              "    }\n",
              "  </style>\n",
              "\n",
              "      <script>\n",
              "        const buttonEl =\n",
              "          document.querySelector('#df-b2fa08ae-54ec-4bd0-9caf-ee7261043c91 button.colab-df-convert');\n",
              "        buttonEl.style.display =\n",
              "          google.colab.kernel.accessAllowed ? 'block' : 'none';\n",
              "\n",
              "        async function convertToInteractive(key) {\n",
              "          const element = document.querySelector('#df-b2fa08ae-54ec-4bd0-9caf-ee7261043c91');\n",
              "          const dataTable =\n",
              "            await google.colab.kernel.invokeFunction('convertToInteractive',\n",
              "                                                     [key], {});\n",
              "          if (!dataTable) return;\n",
              "\n",
              "          const docLinkHtml = 'Like what you see? Visit the ' +\n",
              "            '<a target=\"_blank\" href=https://colab.research.google.com/notebooks/data_table.ipynb>data table notebook</a>'\n",
              "            + ' to learn more about interactive tables.';\n",
              "          element.innerHTML = '';\n",
              "          dataTable['output_type'] = 'display_data';\n",
              "          await google.colab.output.renderOutput(dataTable, element);\n",
              "          const docLink = document.createElement('div');\n",
              "          docLink.innerHTML = docLinkHtml;\n",
              "          element.appendChild(docLink);\n",
              "        }\n",
              "      </script>\n",
              "    </div>\n",
              "  </div>\n",
              "  "
            ]
          },
          "metadata": {},
          "execution_count": 38
        }
      ]
    },
    {
      "cell_type": "markdown",
      "metadata": {
        "id": "Yv8q90IYou2Q"
      },
      "source": [
        "### Analyse the Estimated Values & Regression Residuals"
      ]
    },
    {
      "cell_type": "code",
      "metadata": {
        "id": "8NmXnsxfowkI"
      },
      "source": [
        "predicted_values_multi = multivariable_regression.predict(schooling_work)\n",
        "residuals_multi = y_train - predicted_values_multi\n",
        "df_comparison_multi = pd.DataFrame()\n",
        "df_comparison_multi[\"true_values\"] = y_train\n",
        "df_comparison_multi[\"predicted\"] = predicted_values_multi\n",
        "df_comparison_multi[\"residuals\"] = residuals_multi"
      ],
      "execution_count": null,
      "outputs": []
    },
    {
      "cell_type": "code",
      "metadata": {
        "id": "0ZZ1e0spo5o1",
        "colab": {
          "base_uri": "https://localhost:8080/",
          "height": 594
        },
        "outputId": "040e51fe-1bdc-4728-ab09-c03995e6ee62"
      },
      "source": [
        "plt.figure(figsize=(6, 4), dpi=150)\n",
        "axes = plt.axes()\n",
        "axes.scatter(x=df_comparison_multi.true_values, y=df_comparison_multi.predicted, alpha=0.5, color=\"purple\")\n",
        "plt.plot(df_comparison_multi.true_values, df_comparison_multi.true_values, color=\"skyblue\")\n",
        "plt.title(\"Actual vs Estimated Earnings with multi-variable regression\")\n",
        "plt.xlabel(\"True value\")\n",
        "plt.ylabel(\"Estimated Value\")\n",
        "plt.show()"
      ],
      "execution_count": null,
      "outputs": [
        {
          "output_type": "display_data",
          "data": {
            "text/plain": [
              "<Figure size 900x600 with 1 Axes>"
            ],
            "image/png": "[encoded data removed]"
          },
          "metadata": {
            "needs_background": "light"
          }
        }
      ]
    },
    {
      "cell_type": "code",
      "source": [
        "plt.figure(figsize=(6, 4), dpi=150)\n",
        "axes = plt.axes()\n",
        "axes.scatter(x=df_comparison_multi.true_values, y=df_comparison_multi.residuals, alpha=0.5, color=\"purple\")\n",
        "plt.title(\"Actual earnings vs residuals with multi-variable regression\")\n",
        "plt.xlabel(\"True value\")\n",
        "plt.ylabel(\"Residual\")\n",
        "plt.show()"
      ],
      "metadata": {
        "colab": {
          "base_uri": "https://localhost:8080/",
          "height": 594
        },
        "id": "dkRAPZTDoNkk",
        "outputId": "394b3088-2609-4b32-db98-860e6a353a82"
      },
      "execution_count": null,
      "outputs": [
        {
          "output_type": "display_data",
          "data": {
            "text/plain": [
              "<Figure size 900x600 with 1 Axes>"
            ],
            "image/png": "[encoded data removed]"
          },
          "metadata": {
            "needs_background": "light"
          }
        }
      ]
    },
    {
      "cell_type": "code",
      "source": [
        "df_comparison_multi[\"residuals\"].mean()"
      ],
      "metadata": {
        "colab": {
          "base_uri": "https://localhost:8080/"
        },
        "id": "PGjNr2zrs3gU",
        "outputId": "c1c61eae-0213-4fc9-8caf-0aa994a8322f"
      },
      "execution_count": null,
      "outputs": [
        {
          "output_type": "execute_result",
          "data": {
            "text/plain": [
              "4.230986180976879e-15"
            ]
          },
          "metadata": {},
          "execution_count": 42
        }
      ]
    },
    {
      "cell_type": "code",
      "source": [
        "df_comparison_multi[\"residuals\"].skew()"
      ],
      "metadata": {
        "colab": {
          "base_uri": "https://localhost:8080/"
        },
        "id": "Oo2pNOWOtRhN",
        "outputId": "fe6cbac8-df5a-4117-a2bc-c725ebad5edb"
      },
      "execution_count": null,
      "outputs": [
        {
          "output_type": "execute_result",
          "data": {
            "text/plain": [
              "3.019551013750878"
            ]
          },
          "metadata": {},
          "execution_count": 43
        }
      ]
    },
    {
      "cell_type": "code",
      "source": [
        "# plot a histogram of the residuals superimposed with KDE\n",
        "plt.figure(figsize=(5, 4), dpi=300)\n",
        "with sns.axes_style(\"darkgrid\"):\n",
        "  sns.displot(df_comparison_multi, x=\"residuals\", kde=True, aspect=2, bins=60)\n",
        "plt.title(\"Distribution of Residuals with multi-variable regression\", fontsize=14)\n",
        "plt.xlabel(\"Residual\")\n",
        "plt.show()"
      ],
      "metadata": {
        "colab": {
          "base_uri": "https://localhost:8080/",
          "height": 403
        },
        "id": "1rkNjf25uZm0",
        "outputId": "5f766211-533d-4dff-9dcd-317fa29e52e3"
      },
      "execution_count": null,
      "outputs": [
        {
          "output_type": "display_data",
          "data": {
            "text/plain": [
              "<Figure size 1500x1200 with 0 Axes>"
            ]
          },
          "metadata": {}
        },
        {
          "output_type": "display_data",
          "data": {
            "text/plain": [
              "<Figure size 720x360 with 1 Axes>"
            ],
            "image/png": "[encoded data removed]"
          },
          "metadata": {}
        }
      ]
    },
    {
      "cell_type": "markdown",
      "source": [
        "Compare out-of-sample performance"
      ],
      "metadata": {
        "id": "pgfVXN2Kbju4"
      }
    },
    {
      "cell_type": "code",
      "source": [
        "schooling_work_test = pd.DataFrame(X_test[[\"S\", \"EXP\"]])"
      ],
      "metadata": {
        "id": "sW0ju7EmdE4Q"
      },
      "execution_count": null,
      "outputs": []
    },
    {
      "cell_type": "code",
      "source": [
        "print(f\"R-squared of the model on test data: {multivariable_regression.score(schooling_work_test, y_test): .2}\")\n",
        "print(f\"R-squared of the model on training data: {multivariable_regression.score(schooling_work, y_train): .2}\")"
      ],
      "metadata": {
        "colab": {
          "base_uri": "https://localhost:8080/"
        },
        "id": "XFn6zUIvbgBG",
        "outputId": "4d950916-7447-44e7-9235-a0faa7c0cf3b"
      },
      "execution_count": null,
      "outputs": [
        {
          "output_type": "stream",
          "name": "stdout",
          "text": [
            "R-squared of the model on test data:  0.087\n",
            "R-squared of the model on training data:  0.12\n"
          ]
        }
      ]
    },
    {
      "cell_type": "markdown",
      "metadata": {
        "id": "YWNeoqPLpjVb"
      },
      "source": [
        "# Use Your Model to Make a Prediction\n",
        "\n",
        "How much can someone with a bachelors degree (12 + 4) years of schooling and 5 years work experience expect to earn in 2011?"
      ]
    },
    {
      "cell_type": "code",
      "metadata": {
        "id": "Mof-14lCpv60",
        "colab": {
          "base_uri": "https://localhost:8080/",
          "height": 80
        },
        "outputId": "37db24a7-a57e-4f14-9565-34cbc96d4f6e"
      },
      "source": [
        "features = pd.DataFrame(data=[[16, 5]], columns=[\"S\", \"EXP\"])\n",
        "features"
      ],
      "execution_count": null,
      "outputs": [
        {
          "output_type": "execute_result",
          "data": {
            "text/plain": [
              "    S  EXP\n",
              "0  16    5"
            ],
            "text/html": [
              "\n",
              "  <div id=\"df-b9184e44-3064-4279-94c8-ac00915d2633\">\n",
              "    <div class=\"colab-df-container\">\n",
              "      <div>\n",
              "<style scoped>\n",
              "    .dataframe tbody tr th:only-of-type {\n",
              "        vertical-align: middle;\n",
              "    }\n",
              "\n",
              "    .dataframe tbody tr th {\n",
              "        vertical-align: top;\n",
              "    }\n",
              "\n",
              "    .dataframe thead th {\n",
              "        text-align: right;\n",
              "    }\n",
              "</style>\n",
              "<table border=\"1\" class=\"dataframe\">\n",
              "  <thead>\n",
              "    <tr style=\"text-align: right;\">\n",
              "      <th></th>\n",
              "      <th>S</th>\n",
              "      <th>EXP</th>\n",
              "    </tr>\n",
              "  </thead>\n",
              "  <tbody>\n",
              "    <tr>\n",
              "      <th>0</th>\n",
              "      <td>16</td>\n",
              "      <td>5</td>\n",
              "    </tr>\n",
              "  </tbody>\n",
              "</table>\n",
              "</div>\n",
              "      <button class=\"colab-df-convert\" onclick=\"convertToInteractive('df-b9184e44-3064-4279-94c8-ac00915d2633')\"\n",
              "              title=\"Convert this dataframe to an interactive table.\"\n",
              "              style=\"display:none;\">\n",
              "        \n",
              "  <svg xmlns=\"http://www.w3.org/2000/svg\" height=\"24px\"viewBox=\"0 0 24 24\"\n",
              "       width=\"24px\">\n",
              "    <path d=\"M0 0h24v24H0V0z\" fill=\"none\"/>\n",
              "    <path d=\"M18.56 5.44l.94 2.06.94-2.06 2.06-.94-2.06-.94-.94-2.06-.94 2.06-2.06.94zm-11 1L8.5 8.5l.94-2.06 2.06-.94-2.06-.94L8.5 2.5l-.94 2.06-2.06.94zm10 10l.94 2.06.94-2.06 2.06-.94-2.06-.94-.94-2.06-.94 2.06-2.06.94z\"/><path d=\"M17.41 7.96l-1.37-1.37c-.4-.4-.92-.59-1.43-.59-.52 0-1.04.2-1.43.59L10.3 9.45l-7.72 7.72c-.78.78-.78 2.05 0 2.83L4 21.41c.39.39.9.59 1.41.59.51 0 1.02-.2 1.41-.59l7.78-7.78 2.81-2.81c.8-.78.8-2.07 0-2.86zM5.41 20L4 18.59l7.72-7.72 1.47 1.35L5.41 20z\"/>\n",
              "  </svg>\n",
              "      </button>\n",
              "      \n",
              "  <style>\n",
              "    .colab-df-container {\n",
              "      display:flex;\n",
              "      flex-wrap:wrap;\n",
              "      gap: 12px;\n",
              "    }\n",
              "\n",
              "    .colab-df-convert {\n",
              "      background-color: #E8F0FE;\n",
              "      border: none;\n",
              "      border-radius: 50%;\n",
              "      cursor: pointer;\n",
              "      display: none;\n",
              "      fill: #1967D2;\n",
              "      height: 32px;\n",
              "      padding: 0 0 0 0;\n",
              "      width: 32px;\n",
              "    }\n",
              "\n",
              "    .colab-df-convert:hover {\n",
              "      background-color: #E2EBFA;\n",
              "      box-shadow: 0px 1px 2px rgba(60, 64, 67, 0.3), 0px 1px 3px 1px rgba(60, 64, 67, 0.15);\n",
              "      fill: #174EA6;\n",
              "    }\n",
              "\n",
              "    [theme=dark] .colab-df-convert {\n",
              "      background-color: #3B4455;\n",
              "      fill: #D2E3FC;\n",
              "    }\n",
              "\n",
              "    [theme=dark] .colab-df-convert:hover {\n",
              "      background-color: #434B5C;\n",
              "      box-shadow: 0px 1px 3px 1px rgba(0, 0, 0, 0.15);\n",
              "      filter: drop-shadow(0px 1px 2px rgba(0, 0, 0, 0.3));\n",
              "      fill: #FFFFFF;\n",
              "    }\n",
              "  </style>\n",
              "\n",
              "      <script>\n",
              "        const buttonEl =\n",
              "          document.querySelector('#df-b9184e44-3064-4279-94c8-ac00915d2633 button.colab-df-convert');\n",
              "        buttonEl.style.display =\n",
              "          google.colab.kernel.accessAllowed ? 'block' : 'none';\n",
              "\n",
              "        async function convertToInteractive(key) {\n",
              "          const element = document.querySelector('#df-b9184e44-3064-4279-94c8-ac00915d2633');\n",
              "          const dataTable =\n",
              "            await google.colab.kernel.invokeFunction('convertToInteractive',\n",
              "                                                     [key], {});\n",
              "          if (!dataTable) return;\n",
              "\n",
              "          const docLinkHtml = 'Like what you see? Visit the ' +\n",
              "            '<a target=\"_blank\" href=https://colab.research.google.com/notebooks/data_table.ipynb>data table notebook</a>'\n",
              "            + ' to learn more about interactive tables.';\n",
              "          element.innerHTML = '';\n",
              "          dataTable['output_type'] = 'display_data';\n",
              "          await google.colab.output.renderOutput(dataTable, element);\n",
              "          const docLink = document.createElement('div');\n",
              "          docLink.innerHTML = docLinkHtml;\n",
              "          element.appendChild(docLink);\n",
              "        }\n",
              "      </script>\n",
              "    </div>\n",
              "  </div>\n",
              "  "
            ]
          },
          "metadata": {},
          "execution_count": 47
        }
      ]
    },
    {
      "cell_type": "code",
      "metadata": {
        "id": "3htX8_SBpvyb",
        "colab": {
          "base_uri": "https://localhost:8080/"
        },
        "outputId": "b355b7a6-69cd-48dd-b1f3-ae6c32aa48c5"
      },
      "source": [
        "predicted_earning = multivariable_regression.predict(features)[0][0]\n",
        "print(f\"The predicted earning of such a person is ${predicted_earning:.4}.\")"
      ],
      "execution_count": null,
      "outputs": [
        {
          "output_type": "stream",
          "name": "stdout",
          "text": [
            "The predicted earning of such a person is $19.71.\n"
          ]
        }
      ]
    },
    {
      "cell_type": "code",
      "source": [
        "type(predicted_earning)"
      ],
      "metadata": {
        "colab": {
          "base_uri": "https://localhost:8080/"
        },
        "id": "BS77foijhORs",
        "outputId": "0c7c9f61-ee81-4286-87b3-0b43a49a7b9d"
      },
      "execution_count": null,
      "outputs": [
        {
          "output_type": "execute_result",
          "data": {
            "text/plain": [
              "numpy.float64"
            ]
          },
          "metadata": {},
          "execution_count": 49
        }
      ]
    },
    {
      "cell_type": "code",
      "source": [
        "sample = df_data.sample()\n",
        "sample.EARNINGS"
      ],
      "metadata": {
        "colab": {
          "base_uri": "https://localhost:8080/"
        },
        "id": "nICn-WYghhih",
        "outputId": "2841c788-f885-4264-fe11-00d54b12cb35"
      },
      "execution_count": null,
      "outputs": [
        {
          "output_type": "execute_result",
          "data": {
            "text/plain": [
              "1286   12.50\n",
              "Name: EARNINGS, dtype: float64"
            ]
          },
          "metadata": {},
          "execution_count": 50
        }
      ]
    },
    {
      "cell_type": "code",
      "source": [
        "my_stats = pd.DataFrame(data=[[23, 3]], columns=[\"S\", \"EXP\"])\n",
        "my_stats"
      ],
      "metadata": {
        "colab": {
          "base_uri": "https://localhost:8080/",
          "height": 80
        },
        "id": "BoOpAt7giGUH",
        "outputId": "39780829-dc26-4931-f884-699d450bf8d4"
      },
      "execution_count": null,
      "outputs": [
        {
          "output_type": "execute_result",
          "data": {
            "text/plain": [
              "    S  EXP\n",
              "0  23    3"
            ],
            "text/html": [
              "\n",
              "  <div id=\"df-e4693971-7830-4719-b5df-454832f0285a\">\n",
              "    <div class=\"colab-df-container\">\n",
              "      <div>\n",
              "<style scoped>\n",
              "    .dataframe tbody tr th:only-of-type {\n",
              "        vertical-align: middle;\n",
              "    }\n",
              "\n",
              "    .dataframe tbody tr th {\n",
              "        vertical-align: top;\n",
              "    }\n",
              "\n",
              "    .dataframe thead th {\n",
              "        text-align: right;\n",
              "    }\n",
              "</style>\n",
              "<table border=\"1\" class=\"dataframe\">\n",
              "  <thead>\n",
              "    <tr style=\"text-align: right;\">\n",
              "      <th></th>\n",
              "      <th>S</th>\n",
              "      <th>EXP</th>\n",
              "    </tr>\n",
              "  </thead>\n",
              "  <tbody>\n",
              "    <tr>\n",
              "      <th>0</th>\n",
              "      <td>23</td>\n",
              "      <td>3</td>\n",
              "    </tr>\n",
              "  </tbody>\n",
              "</table>\n",
              "</div>\n",
              "      <button class=\"colab-df-convert\" onclick=\"convertToInteractive('df-e4693971-7830-4719-b5df-454832f0285a')\"\n",
              "              title=\"Convert this dataframe to an interactive table.\"\n",
              "              style=\"display:none;\">\n",
              "        \n",
              "  <svg xmlns=\"http://www.w3.org/2000/svg\" height=\"24px\"viewBox=\"0 0 24 24\"\n",
              "       width=\"24px\">\n",
              "    <path d=\"M0 0h24v24H0V0z\" fill=\"none\"/>\n",
              "    <path d=\"M18.56 5.44l.94 2.06.94-2.06 2.06-.94-2.06-.94-.94-2.06-.94 2.06-2.06.94zm-11 1L8.5 8.5l.94-2.06 2.06-.94-2.06-.94L8.5 2.5l-.94 2.06-2.06.94zm10 10l.94 2.06.94-2.06 2.06-.94-2.06-.94-.94-2.06-.94 2.06-2.06.94z\"/><path d=\"M17.41 7.96l-1.37-1.37c-.4-.4-.92-.59-1.43-.59-.52 0-1.04.2-1.43.59L10.3 9.45l-7.72 7.72c-.78.78-.78 2.05 0 2.83L4 21.41c.39.39.9.59 1.41.59.51 0 1.02-.2 1.41-.59l7.78-7.78 2.81-2.81c.8-.78.8-2.07 0-2.86zM5.41 20L4 18.59l7.72-7.72 1.47 1.35L5.41 20z\"/>\n",
              "  </svg>\n",
              "      </button>\n",
              "      \n",
              "  <style>\n",
              "    .colab-df-container {\n",
              "      display:flex;\n",
              "      flex-wrap:wrap;\n",
              "      gap: 12px;\n",
              "    }\n",
              "\n",
              "    .colab-df-convert {\n",
              "      background-color: #E8F0FE;\n",
              "      border: none;\n",
              "      border-radius: 50%;\n",
              "      cursor: pointer;\n",
              "      display: none;\n",
              "      fill: #1967D2;\n",
              "      height: 32px;\n",
              "      padding: 0 0 0 0;\n",
              "      width: 32px;\n",
              "    }\n",
              "\n",
              "    .colab-df-convert:hover {\n",
              "      background-color: #E2EBFA;\n",
              "      box-shadow: 0px 1px 2px rgba(60, 64, 67, 0.3), 0px 1px 3px 1px rgba(60, 64, 67, 0.15);\n",
              "      fill: #174EA6;\n",
              "    }\n",
              "\n",
              "    [theme=dark] .colab-df-convert {\n",
              "      background-color: #3B4455;\n",
              "      fill: #D2E3FC;\n",
              "    }\n",
              "\n",
              "    [theme=dark] .colab-df-convert:hover {\n",
              "      background-color: #434B5C;\n",
              "      box-shadow: 0px 1px 3px 1px rgba(0, 0, 0, 0.15);\n",
              "      filter: drop-shadow(0px 1px 2px rgba(0, 0, 0, 0.3));\n",
              "      fill: #FFFFFF;\n",
              "    }\n",
              "  </style>\n",
              "\n",
              "      <script>\n",
              "        const buttonEl =\n",
              "          document.querySelector('#df-e4693971-7830-4719-b5df-454832f0285a button.colab-df-convert');\n",
              "        buttonEl.style.display =\n",
              "          google.colab.kernel.accessAllowed ? 'block' : 'none';\n",
              "\n",
              "        async function convertToInteractive(key) {\n",
              "          const element = document.querySelector('#df-e4693971-7830-4719-b5df-454832f0285a');\n",
              "          const dataTable =\n",
              "            await google.colab.kernel.invokeFunction('convertToInteractive',\n",
              "                                                     [key], {});\n",
              "          if (!dataTable) return;\n",
              "\n",
              "          const docLinkHtml = 'Like what you see? Visit the ' +\n",
              "            '<a target=\"_blank\" href=https://colab.research.google.com/notebooks/data_table.ipynb>data table notebook</a>'\n",
              "            + ' to learn more about interactive tables.';\n",
              "          element.innerHTML = '';\n",
              "          dataTable['output_type'] = 'display_data';\n",
              "          await google.colab.output.renderOutput(dataTable, element);\n",
              "          const docLink = document.createElement('div');\n",
              "          docLink.innerHTML = docLinkHtml;\n",
              "          element.appendChild(docLink);\n",
              "        }\n",
              "      </script>\n",
              "    </div>\n",
              "  </div>\n",
              "  "
            ]
          },
          "metadata": {},
          "execution_count": 51
        }
      ]
    },
    {
      "cell_type": "code",
      "source": [
        "my_predicted_earning = multivariable_regression.predict(my_stats)[0][0]\n",
        "print(f\"My predicted earning is ${my_predicted_earning:.4}.\")"
      ],
      "metadata": {
        "colab": {
          "base_uri": "https://localhost:8080/"
        },
        "id": "z3r7fT8fig90",
        "outputId": "f4fe6b04-2f37-44be-9125-b4836b256308"
      },
      "execution_count": null,
      "outputs": [
        {
          "output_type": "stream",
          "name": "stdout",
          "text": [
            "My predicted earning is $30.32.\n"
          ]
        }
      ]
    },
    {
      "cell_type": "code",
      "source": [
        "multivariable_regression.coef_"
      ],
      "metadata": {
        "colab": {
          "base_uri": "https://localhost:8080/"
        },
        "id": "tvtrn8VBi-U9",
        "outputId": "d6789d6b-50fb-4036-c9d7-4d39caba1b81"
      },
      "execution_count": null,
      "outputs": [
        {
          "output_type": "execute_result",
          "data": {
            "text/plain": [
              "array([[1.79422175, 0.97900689]])"
            ]
          },
          "metadata": {},
          "execution_count": 53
        }
      ]
    },
    {
      "cell_type": "markdown",
      "metadata": {
        "id": "TIYI-eQepDSQ"
      },
      "source": [
        "# Experiment and Investigate Further\n",
        "\n",
        "Which other features could you consider adding to further improve the regression to better predict earnings? "
      ]
    },
    {
      "cell_type": "code",
      "source": [
        "df_data.sample()"
      ],
      "metadata": {
        "colab": {
          "base_uri": "https://localhost:8080/",
          "height": 174
        },
        "id": "XNVu_ohZmdUk",
        "outputId": "c404b81b-44e3-43fd-ab71-0cb469f9f4c4"
      },
      "execution_count": null,
      "outputs": [
        {
          "output_type": "execute_result",
          "data": {
            "text/plain": [
              "       ID  EARNINGS   S  EXP  FEMALE  MALE  BYEAR  AGE  AGEMBTH  HHINC97  ...  \\\n",
              "1067  638     27.40  16 5.42       0     1   1984   27    36.00      NaN  ...   \n",
              "\n",
              "      URBAN  REGNE  REGNC  REGW  REGS  MSA11NO  MSA11NCC  MSA11CC  MSA11NK  \\\n",
              "1067      1      0      1     0     0        0         1        0        0   \n",
              "\n",
              "      MSA11NIC  \n",
              "1067         0  \n",
              "\n",
              "[1 rows x 96 columns]"
            ],
            "text/html": [
              "\n",
              "  <div id=\"df-86582d90-995e-43e7-8487-d2e7e88f6856\">\n",
              "    <div class=\"colab-df-container\">\n",
              "      <div>\n",
              "<style scoped>\n",
              "    .dataframe tbody tr th:only-of-type {\n",
              "        vertical-align: middle;\n",
              "    }\n",
              "\n",
              "    .dataframe tbody tr th {\n",
              "        vertical-align: top;\n",
              "    }\n",
              "\n",
              "    .dataframe thead th {\n",
              "        text-align: right;\n",
              "    }\n",
              "</style>\n",
              "<table border=\"1\" class=\"dataframe\">\n",
              "  <thead>\n",
              "    <tr style=\"text-align: right;\">\n",
              "      <th></th>\n",
              "      <th>ID</th>\n",
              "      <th>EARNINGS</th>\n",
              "      <th>S</th>\n",
              "      <th>EXP</th>\n",
              "      <th>FEMALE</th>\n",
              "      <th>MALE</th>\n",
              "      <th>BYEAR</th>\n",
              "      <th>AGE</th>\n",
              "      <th>AGEMBTH</th>\n",
              "      <th>HHINC97</th>\n",
              "      <th>...</th>\n",
              "      <th>URBAN</th>\n",
              "      <th>REGNE</th>\n",
              "      <th>REGNC</th>\n",
              "      <th>REGW</th>\n",
              "      <th>REGS</th>\n",
              "      <th>MSA11NO</th>\n",
              "      <th>MSA11NCC</th>\n",
              "      <th>MSA11CC</th>\n",
              "      <th>MSA11NK</th>\n",
              "      <th>MSA11NIC</th>\n",
              "    </tr>\n",
              "  </thead>\n",
              "  <tbody>\n",
              "    <tr>\n",
              "      <th>1067</th>\n",
              "      <td>638</td>\n",
              "      <td>27.40</td>\n",
              "      <td>16</td>\n",
              "      <td>5.42</td>\n",
              "      <td>0</td>\n",
              "      <td>1</td>\n",
              "      <td>1984</td>\n",
              "      <td>27</td>\n",
              "      <td>36.00</td>\n",
              "      <td>NaN</td>\n",
              "      <td>...</td>\n",
              "      <td>1</td>\n",
              "      <td>0</td>\n",
              "      <td>1</td>\n",
              "      <td>0</td>\n",
              "      <td>0</td>\n",
              "      <td>0</td>\n",
              "      <td>1</td>\n",
              "      <td>0</td>\n",
              "      <td>0</td>\n",
              "      <td>0</td>\n",
              "    </tr>\n",
              "  </tbody>\n",
              "</table>\n",
              "<p>1 rows × 96 columns</p>\n",
              "</div>\n",
              "      <button class=\"colab-df-convert\" onclick=\"convertToInteractive('df-86582d90-995e-43e7-8487-d2e7e88f6856')\"\n",
              "              title=\"Convert this dataframe to an interactive table.\"\n",
              "              style=\"display:none;\">\n",
              "        \n",
              "  <svg xmlns=\"http://www.w3.org/2000/svg\" height=\"24px\"viewBox=\"0 0 24 24\"\n",
              "       width=\"24px\">\n",
              "    <path d=\"M0 0h24v24H0V0z\" fill=\"none\"/>\n",
              "    <path d=\"M18.56 5.44l.94 2.06.94-2.06 2.06-.94-2.06-.94-.94-2.06-.94 2.06-2.06.94zm-11 1L8.5 8.5l.94-2.06 2.06-.94-2.06-.94L8.5 2.5l-.94 2.06-2.06.94zm10 10l.94 2.06.94-2.06 2.06-.94-2.06-.94-.94-2.06-.94 2.06-2.06.94z\"/><path d=\"M17.41 7.96l-1.37-1.37c-.4-.4-.92-.59-1.43-.59-.52 0-1.04.2-1.43.59L10.3 9.45l-7.72 7.72c-.78.78-.78 2.05 0 2.83L4 21.41c.39.39.9.59 1.41.59.51 0 1.02-.2 1.41-.59l7.78-7.78 2.81-2.81c.8-.78.8-2.07 0-2.86zM5.41 20L4 18.59l7.72-7.72 1.47 1.35L5.41 20z\"/>\n",
              "  </svg>\n",
              "      </button>\n",
              "      \n",
              "  <style>\n",
              "    .colab-df-container {\n",
              "      display:flex;\n",
              "      flex-wrap:wrap;\n",
              "      gap: 12px;\n",
              "    }\n",
              "\n",
              "    .colab-df-convert {\n",
              "      background-color: #E8F0FE;\n",
              "      border: none;\n",
              "      border-radius: 50%;\n",
              "      cursor: pointer;\n",
              "      display: none;\n",
              "      fill: #1967D2;\n",
              "      height: 32px;\n",
              "      padding: 0 0 0 0;\n",
              "      width: 32px;\n",
              "    }\n",
              "\n",
              "    .colab-df-convert:hover {\n",
              "      background-color: #E2EBFA;\n",
              "      box-shadow: 0px 1px 2px rgba(60, 64, 67, 0.3), 0px 1px 3px 1px rgba(60, 64, 67, 0.15);\n",
              "      fill: #174EA6;\n",
              "    }\n",
              "\n",
              "    [theme=dark] .colab-df-convert {\n",
              "      background-color: #3B4455;\n",
              "      fill: #D2E3FC;\n",
              "    }\n",
              "\n",
              "    [theme=dark] .colab-df-convert:hover {\n",
              "      background-color: #434B5C;\n",
              "      box-shadow: 0px 1px 3px 1px rgba(0, 0, 0, 0.15);\n",
              "      filter: drop-shadow(0px 1px 2px rgba(0, 0, 0, 0.3));\n",
              "      fill: #FFFFFF;\n",
              "    }\n",
              "  </style>\n",
              "\n",
              "      <script>\n",
              "        const buttonEl =\n",
              "          document.querySelector('#df-86582d90-995e-43e7-8487-d2e7e88f6856 button.colab-df-convert');\n",
              "        buttonEl.style.display =\n",
              "          google.colab.kernel.accessAllowed ? 'block' : 'none';\n",
              "\n",
              "        async function convertToInteractive(key) {\n",
              "          const element = document.querySelector('#df-86582d90-995e-43e7-8487-d2e7e88f6856');\n",
              "          const dataTable =\n",
              "            await google.colab.kernel.invokeFunction('convertToInteractive',\n",
              "                                                     [key], {});\n",
              "          if (!dataTable) return;\n",
              "\n",
              "          const docLinkHtml = 'Like what you see? Visit the ' +\n",
              "            '<a target=\"_blank\" href=https://colab.research.google.com/notebooks/data_table.ipynb>data table notebook</a>'\n",
              "            + ' to learn more about interactive tables.';\n",
              "          element.innerHTML = '';\n",
              "          dataTable['output_type'] = 'display_data';\n",
              "          await google.colab.output.renderOutput(dataTable, element);\n",
              "          const docLink = document.createElement('div');\n",
              "          docLink.innerHTML = docLinkHtml;\n",
              "          element.appendChild(docLink);\n",
              "        }\n",
              "      </script>\n",
              "    </div>\n",
              "  </div>\n",
              "  "
            ]
          },
          "metadata": {},
          "execution_count": 61
        }
      ]
    },
    {
      "cell_type": "code",
      "source": [
        "df_further = df_data[[\"S\", \"EXP\", \"BYEAR\", \"JOBS\", \"EARNINGS\"]].dropna()"
      ],
      "metadata": {
        "id": "gSqyfyGZk3RU"
      },
      "execution_count": null,
      "outputs": []
    },
    {
      "cell_type": "code",
      "source": [
        "X_train, X_test, y_train, y_test = train_test_split(df_further.loc[:, df_further.columns != \"EARNINGS\"], df_further[\"EARNINGS\"], train_size=0.8, test_size=0.2, random_state=10)"
      ],
      "metadata": {
        "id": "l8zCI6VDmlpq"
      },
      "execution_count": null,
      "outputs": []
    },
    {
      "cell_type": "code",
      "metadata": {
        "id": "Fohe2-Rdp1MO"
      },
      "source": [
        "sophisticated_regression = LinearRegression()"
      ],
      "execution_count": null,
      "outputs": []
    },
    {
      "cell_type": "code",
      "source": [
        "sophisticated_regression.fit(X_train, y_train)"
      ],
      "metadata": {
        "colab": {
          "base_uri": "https://localhost:8080/"
        },
        "id": "_6HoEtuMi1OB",
        "outputId": "5b402ccd-0b5e-4015-9235-be7ce800f693"
      },
      "execution_count": null,
      "outputs": [
        {
          "output_type": "execute_result",
          "data": {
            "text/plain": [
              "LinearRegression()"
            ]
          },
          "metadata": {},
          "execution_count": 65
        }
      ]
    },
    {
      "cell_type": "code",
      "source": [
        "sophisticated_regression.score(X_train, y_train)"
      ],
      "metadata": {
        "colab": {
          "base_uri": "https://localhost:8080/"
        },
        "id": "P2KaTYz3i6VU",
        "outputId": "eeaa496c-a8fc-4b8a-dec9-6c53f5c9c32a"
      },
      "execution_count": null,
      "outputs": [
        {
          "output_type": "execute_result",
          "data": {
            "text/plain": [
              "0.1140171673195135"
            ]
          },
          "metadata": {},
          "execution_count": 67
        }
      ]
    },
    {
      "cell_type": "code",
      "source": [
        "my_features = pd.DataFrame(data=[[23, 3, 1988, 2]], columns=[\"S\", \"EXP\", \"BYEAR\", \"JOBS\"])"
      ],
      "metadata": {
        "id": "aWItPH0injRu"
      },
      "execution_count": null,
      "outputs": []
    },
    {
      "cell_type": "code",
      "source": [
        "my_predicted_earning = sophisticated_regression.predict(my_features)[0]"
      ],
      "metadata": {
        "id": "8YaonRuXo0lc"
      },
      "execution_count": null,
      "outputs": []
    },
    {
      "cell_type": "code",
      "source": [
        "print(f\"My new predicted hourly earning is ${my_predicted_earning:.4}.\")"
      ],
      "metadata": {
        "colab": {
          "base_uri": "https://localhost:8080/"
        },
        "id": "H_kCPvWCpMMS",
        "outputId": "78c6f51b-b538-4b63-a83d-61ab37e802d3"
      },
      "execution_count": null,
      "outputs": [
        {
          "output_type": "stream",
          "name": "stdout",
          "text": [
            "My new predicted hourly earning is $32.32.\n"
          ]
        }
      ]
    }
  ]
}